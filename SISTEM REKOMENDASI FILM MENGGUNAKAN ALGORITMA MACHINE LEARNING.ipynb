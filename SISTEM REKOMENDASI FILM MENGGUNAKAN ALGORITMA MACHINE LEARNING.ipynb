{
 "cells": [
  {
   "cell_type": "markdown",
   "id": "07007255",
   "metadata": {},
   "source": [
    "## MEMBUAT SISTEM REKOMENDASI FILM MENGGUNAKAN ALGORITMA MACHINE LEARNING"
   ]
  },
  {
   "cell_type": "markdown",
   "id": "711b15c0",
   "metadata": {},
   "source": [
    "### Nama : Huffaz Muhammad Abdurrofi Baith"
   ]
  },
  {
   "cell_type": "markdown",
   "id": "82871d30",
   "metadata": {},
   "source": [
    "### Import Modul"
   ]
  },
  {
   "cell_type": "code",
   "execution_count": 1,
   "id": "031e7bf7",
   "metadata": {
    "execution": {
     "iopub.execute_input": "2022-12-22T09:44:40.572584Z",
     "iopub.status.busy": "2022-12-22T09:44:40.572211Z",
     "iopub.status.idle": "2022-12-22T09:44:42.401442Z",
     "shell.execute_reply": "2022-12-22T09:44:42.400067Z",
     "shell.execute_reply.started": "2022-12-22T09:44:40.572483Z"
    }
   },
   "outputs": [],
   "source": [
    "import pandas as pd\n",
    "import matplotlib.pyplot as plt\n",
    "plt.style.use('fivethirtyeight')\n",
    "import seaborn as sns\n",
    "import numpy as np\n",
    "import json\n",
    "import warnings\n",
    "warnings.filterwarnings('ignore')\n",
    "import base64\n",
    "import io\n",
    "from matplotlib.pyplot import imread\n",
    "import codecs\n",
    "from IPython.display import HTML"
   ]
  },
  {
   "cell_type": "markdown",
   "id": "a804be44",
   "metadata": {},
   "source": [
    "### Memuat dataset"
   ]
  },
  {
   "cell_type": "code",
   "execution_count": 2,
   "id": "d81ab75f",
   "metadata": {
    "execution": {
     "iopub.execute_input": "2022-12-22T09:44:45.233790Z",
     "iopub.status.busy": "2022-12-22T09:44:45.233397Z",
     "iopub.status.idle": "2022-12-22T09:44:46.684414Z",
     "shell.execute_reply": "2022-12-22T09:44:46.683110Z",
     "shell.execute_reply.started": "2022-12-22T09:44:45.233756Z"
    }
   },
   "outputs": [],
   "source": [
    "movies = pd.read_csv('/kaggle/input/tmdb-movie-metadata/tmdb_5000_movies.csv')\n",
    "credits = pd.read_csv('/kaggle/input/tmdb-movie-metadata/tmdb_5000_credits.csv')"
   ]
  },
  {
   "cell_type": "code",
   "execution_count": 3,
   "id": "26f53e5d",
   "metadata": {
    "execution": {
     "iopub.execute_input": "2022-12-22T09:44:52.730816Z",
     "iopub.status.busy": "2022-12-22T09:44:52.730251Z",
     "iopub.status.idle": "2022-12-22T09:44:52.781168Z",
     "shell.execute_reply": "2022-12-22T09:44:52.779997Z",
     "shell.execute_reply.started": "2022-12-22T09:44:52.730768Z"
    }
   },
   "outputs": [
    {
     "data": {
      "text/html": [
       "<div>\n",
       "<style scoped>\n",
       "    .dataframe tbody tr th:only-of-type {\n",
       "        vertical-align: middle;\n",
       "    }\n",
       "\n",
       "    .dataframe tbody tr th {\n",
       "        vertical-align: top;\n",
       "    }\n",
       "\n",
       "    .dataframe thead th {\n",
       "        text-align: right;\n",
       "    }\n",
       "</style>\n",
       "<table border=\"1\" class=\"dataframe\">\n",
       "  <thead>\n",
       "    <tr style=\"text-align: right;\">\n",
       "      <th></th>\n",
       "      <th>budget</th>\n",
       "      <th>genres</th>\n",
       "      <th>homepage</th>\n",
       "      <th>id</th>\n",
       "      <th>keywords</th>\n",
       "      <th>original_language</th>\n",
       "      <th>original_title</th>\n",
       "      <th>overview</th>\n",
       "      <th>popularity</th>\n",
       "      <th>production_companies</th>\n",
       "      <th>production_countries</th>\n",
       "      <th>release_date</th>\n",
       "      <th>revenue</th>\n",
       "      <th>runtime</th>\n",
       "      <th>spoken_languages</th>\n",
       "      <th>status</th>\n",
       "      <th>tagline</th>\n",
       "      <th>title</th>\n",
       "      <th>vote_average</th>\n",
       "      <th>vote_count</th>\n",
       "    </tr>\n",
       "  </thead>\n",
       "  <tbody>\n",
       "    <tr>\n",
       "      <th>0</th>\n",
       "      <td>237000000</td>\n",
       "      <td>[{\"id\": 28, \"name\": \"Action\"}, {\"id\": 12, \"nam...</td>\n",
       "      <td>http://www.avatarmovie.com/</td>\n",
       "      <td>19995</td>\n",
       "      <td>[{\"id\": 1463, \"name\": \"culture clash\"}, {\"id\":...</td>\n",
       "      <td>en</td>\n",
       "      <td>Avatar</td>\n",
       "      <td>In the 22nd century, a paraplegic Marine is di...</td>\n",
       "      <td>150.437577</td>\n",
       "      <td>[{\"name\": \"Ingenious Film Partners\", \"id\": 289...</td>\n",
       "      <td>[{\"iso_3166_1\": \"US\", \"name\": \"United States o...</td>\n",
       "      <td>2009-12-10</td>\n",
       "      <td>2787965087</td>\n",
       "      <td>162.0</td>\n",
       "      <td>[{\"iso_639_1\": \"en\", \"name\": \"English\"}, {\"iso...</td>\n",
       "      <td>Released</td>\n",
       "      <td>Enter the World of Pandora.</td>\n",
       "      <td>Avatar</td>\n",
       "      <td>7.2</td>\n",
       "      <td>11800</td>\n",
       "    </tr>\n",
       "    <tr>\n",
       "      <th>1</th>\n",
       "      <td>300000000</td>\n",
       "      <td>[{\"id\": 12, \"name\": \"Adventure\"}, {\"id\": 14, \"...</td>\n",
       "      <td>http://disney.go.com/disneypictures/pirates/</td>\n",
       "      <td>285</td>\n",
       "      <td>[{\"id\": 270, \"name\": \"ocean\"}, {\"id\": 726, \"na...</td>\n",
       "      <td>en</td>\n",
       "      <td>Pirates of the Caribbean: At World's End</td>\n",
       "      <td>Captain Barbossa, long believed to be dead, ha...</td>\n",
       "      <td>139.082615</td>\n",
       "      <td>[{\"name\": \"Walt Disney Pictures\", \"id\": 2}, {\"...</td>\n",
       "      <td>[{\"iso_3166_1\": \"US\", \"name\": \"United States o...</td>\n",
       "      <td>2007-05-19</td>\n",
       "      <td>961000000</td>\n",
       "      <td>169.0</td>\n",
       "      <td>[{\"iso_639_1\": \"en\", \"name\": \"English\"}]</td>\n",
       "      <td>Released</td>\n",
       "      <td>At the end of the world, the adventure begins.</td>\n",
       "      <td>Pirates of the Caribbean: At World's End</td>\n",
       "      <td>6.9</td>\n",
       "      <td>4500</td>\n",
       "    </tr>\n",
       "    <tr>\n",
       "      <th>2</th>\n",
       "      <td>245000000</td>\n",
       "      <td>[{\"id\": 28, \"name\": \"Action\"}, {\"id\": 12, \"nam...</td>\n",
       "      <td>http://www.sonypictures.com/movies/spectre/</td>\n",
       "      <td>206647</td>\n",
       "      <td>[{\"id\": 470, \"name\": \"spy\"}, {\"id\": 818, \"name...</td>\n",
       "      <td>en</td>\n",
       "      <td>Spectre</td>\n",
       "      <td>A cryptic message from Bond’s past sends him o...</td>\n",
       "      <td>107.376788</td>\n",
       "      <td>[{\"name\": \"Columbia Pictures\", \"id\": 5}, {\"nam...</td>\n",
       "      <td>[{\"iso_3166_1\": \"GB\", \"name\": \"United Kingdom\"...</td>\n",
       "      <td>2015-10-26</td>\n",
       "      <td>880674609</td>\n",
       "      <td>148.0</td>\n",
       "      <td>[{\"iso_639_1\": \"fr\", \"name\": \"Fran\\u00e7ais\"},...</td>\n",
       "      <td>Released</td>\n",
       "      <td>A Plan No One Escapes</td>\n",
       "      <td>Spectre</td>\n",
       "      <td>6.3</td>\n",
       "      <td>4466</td>\n",
       "    </tr>\n",
       "    <tr>\n",
       "      <th>3</th>\n",
       "      <td>250000000</td>\n",
       "      <td>[{\"id\": 28, \"name\": \"Action\"}, {\"id\": 80, \"nam...</td>\n",
       "      <td>http://www.thedarkknightrises.com/</td>\n",
       "      <td>49026</td>\n",
       "      <td>[{\"id\": 849, \"name\": \"dc comics\"}, {\"id\": 853,...</td>\n",
       "      <td>en</td>\n",
       "      <td>The Dark Knight Rises</td>\n",
       "      <td>Following the death of District Attorney Harve...</td>\n",
       "      <td>112.312950</td>\n",
       "      <td>[{\"name\": \"Legendary Pictures\", \"id\": 923}, {\"...</td>\n",
       "      <td>[{\"iso_3166_1\": \"US\", \"name\": \"United States o...</td>\n",
       "      <td>2012-07-16</td>\n",
       "      <td>1084939099</td>\n",
       "      <td>165.0</td>\n",
       "      <td>[{\"iso_639_1\": \"en\", \"name\": \"English\"}]</td>\n",
       "      <td>Released</td>\n",
       "      <td>The Legend Ends</td>\n",
       "      <td>The Dark Knight Rises</td>\n",
       "      <td>7.6</td>\n",
       "      <td>9106</td>\n",
       "    </tr>\n",
       "    <tr>\n",
       "      <th>4</th>\n",
       "      <td>260000000</td>\n",
       "      <td>[{\"id\": 28, \"name\": \"Action\"}, {\"id\": 12, \"nam...</td>\n",
       "      <td>http://movies.disney.com/john-carter</td>\n",
       "      <td>49529</td>\n",
       "      <td>[{\"id\": 818, \"name\": \"based on novel\"}, {\"id\":...</td>\n",
       "      <td>en</td>\n",
       "      <td>John Carter</td>\n",
       "      <td>John Carter is a war-weary, former military ca...</td>\n",
       "      <td>43.926995</td>\n",
       "      <td>[{\"name\": \"Walt Disney Pictures\", \"id\": 2}]</td>\n",
       "      <td>[{\"iso_3166_1\": \"US\", \"name\": \"United States o...</td>\n",
       "      <td>2012-03-07</td>\n",
       "      <td>284139100</td>\n",
       "      <td>132.0</td>\n",
       "      <td>[{\"iso_639_1\": \"en\", \"name\": \"English\"}]</td>\n",
       "      <td>Released</td>\n",
       "      <td>Lost in our world, found in another.</td>\n",
       "      <td>John Carter</td>\n",
       "      <td>6.1</td>\n",
       "      <td>2124</td>\n",
       "    </tr>\n",
       "  </tbody>\n",
       "</table>\n",
       "</div>"
      ],
      "text/plain": [
       "      budget                                             genres  \\\n",
       "0  237000000  [{\"id\": 28, \"name\": \"Action\"}, {\"id\": 12, \"nam...   \n",
       "1  300000000  [{\"id\": 12, \"name\": \"Adventure\"}, {\"id\": 14, \"...   \n",
       "2  245000000  [{\"id\": 28, \"name\": \"Action\"}, {\"id\": 12, \"nam...   \n",
       "3  250000000  [{\"id\": 28, \"name\": \"Action\"}, {\"id\": 80, \"nam...   \n",
       "4  260000000  [{\"id\": 28, \"name\": \"Action\"}, {\"id\": 12, \"nam...   \n",
       "\n",
       "                                       homepage      id  \\\n",
       "0                   http://www.avatarmovie.com/   19995   \n",
       "1  http://disney.go.com/disneypictures/pirates/     285   \n",
       "2   http://www.sonypictures.com/movies/spectre/  206647   \n",
       "3            http://www.thedarkknightrises.com/   49026   \n",
       "4          http://movies.disney.com/john-carter   49529   \n",
       "\n",
       "                                            keywords original_language  \\\n",
       "0  [{\"id\": 1463, \"name\": \"culture clash\"}, {\"id\":...                en   \n",
       "1  [{\"id\": 270, \"name\": \"ocean\"}, {\"id\": 726, \"na...                en   \n",
       "2  [{\"id\": 470, \"name\": \"spy\"}, {\"id\": 818, \"name...                en   \n",
       "3  [{\"id\": 849, \"name\": \"dc comics\"}, {\"id\": 853,...                en   \n",
       "4  [{\"id\": 818, \"name\": \"based on novel\"}, {\"id\":...                en   \n",
       "\n",
       "                             original_title  \\\n",
       "0                                    Avatar   \n",
       "1  Pirates of the Caribbean: At World's End   \n",
       "2                                   Spectre   \n",
       "3                     The Dark Knight Rises   \n",
       "4                               John Carter   \n",
       "\n",
       "                                            overview  popularity  \\\n",
       "0  In the 22nd century, a paraplegic Marine is di...  150.437577   \n",
       "1  Captain Barbossa, long believed to be dead, ha...  139.082615   \n",
       "2  A cryptic message from Bond’s past sends him o...  107.376788   \n",
       "3  Following the death of District Attorney Harve...  112.312950   \n",
       "4  John Carter is a war-weary, former military ca...   43.926995   \n",
       "\n",
       "                                production_companies  \\\n",
       "0  [{\"name\": \"Ingenious Film Partners\", \"id\": 289...   \n",
       "1  [{\"name\": \"Walt Disney Pictures\", \"id\": 2}, {\"...   \n",
       "2  [{\"name\": \"Columbia Pictures\", \"id\": 5}, {\"nam...   \n",
       "3  [{\"name\": \"Legendary Pictures\", \"id\": 923}, {\"...   \n",
       "4        [{\"name\": \"Walt Disney Pictures\", \"id\": 2}]   \n",
       "\n",
       "                                production_countries release_date     revenue  \\\n",
       "0  [{\"iso_3166_1\": \"US\", \"name\": \"United States o...   2009-12-10  2787965087   \n",
       "1  [{\"iso_3166_1\": \"US\", \"name\": \"United States o...   2007-05-19   961000000   \n",
       "2  [{\"iso_3166_1\": \"GB\", \"name\": \"United Kingdom\"...   2015-10-26   880674609   \n",
       "3  [{\"iso_3166_1\": \"US\", \"name\": \"United States o...   2012-07-16  1084939099   \n",
       "4  [{\"iso_3166_1\": \"US\", \"name\": \"United States o...   2012-03-07   284139100   \n",
       "\n",
       "   runtime                                   spoken_languages    status  \\\n",
       "0    162.0  [{\"iso_639_1\": \"en\", \"name\": \"English\"}, {\"iso...  Released   \n",
       "1    169.0           [{\"iso_639_1\": \"en\", \"name\": \"English\"}]  Released   \n",
       "2    148.0  [{\"iso_639_1\": \"fr\", \"name\": \"Fran\\u00e7ais\"},...  Released   \n",
       "3    165.0           [{\"iso_639_1\": \"en\", \"name\": \"English\"}]  Released   \n",
       "4    132.0           [{\"iso_639_1\": \"en\", \"name\": \"English\"}]  Released   \n",
       "\n",
       "                                          tagline  \\\n",
       "0                     Enter the World of Pandora.   \n",
       "1  At the end of the world, the adventure begins.   \n",
       "2                           A Plan No One Escapes   \n",
       "3                                 The Legend Ends   \n",
       "4            Lost in our world, found in another.   \n",
       "\n",
       "                                      title  vote_average  vote_count  \n",
       "0                                    Avatar           7.2       11800  \n",
       "1  Pirates of the Caribbean: At World's End           6.9        4500  \n",
       "2                                   Spectre           6.3        4466  \n",
       "3                     The Dark Knight Rises           7.6        9106  \n",
       "4                               John Carter           6.1        2124  "
      ]
     },
     "execution_count": 3,
     "metadata": {},
     "output_type": "execute_result"
    }
   ],
   "source": [
    "# Menampilkan dataset1\n",
    "movies.head()"
   ]
  },
  {
   "cell_type": "code",
   "execution_count": 4,
   "id": "2ab446ae",
   "metadata": {
    "execution": {
     "iopub.execute_input": "2022-12-22T09:44:56.619166Z",
     "iopub.status.busy": "2022-12-22T09:44:56.618418Z",
     "iopub.status.idle": "2022-12-22T09:44:56.631803Z",
     "shell.execute_reply": "2022-12-22T09:44:56.630641Z",
     "shell.execute_reply.started": "2022-12-22T09:44:56.619127Z"
    }
   },
   "outputs": [
    {
     "data": {
      "text/html": [
       "<div>\n",
       "<style scoped>\n",
       "    .dataframe tbody tr th:only-of-type {\n",
       "        vertical-align: middle;\n",
       "    }\n",
       "\n",
       "    .dataframe tbody tr th {\n",
       "        vertical-align: top;\n",
       "    }\n",
       "\n",
       "    .dataframe thead th {\n",
       "        text-align: right;\n",
       "    }\n",
       "</style>\n",
       "<table border=\"1\" class=\"dataframe\">\n",
       "  <thead>\n",
       "    <tr style=\"text-align: right;\">\n",
       "      <th></th>\n",
       "      <th>movie_id</th>\n",
       "      <th>title</th>\n",
       "      <th>cast</th>\n",
       "      <th>crew</th>\n",
       "    </tr>\n",
       "  </thead>\n",
       "  <tbody>\n",
       "    <tr>\n",
       "      <th>0</th>\n",
       "      <td>19995</td>\n",
       "      <td>Avatar</td>\n",
       "      <td>[{\"cast_id\": 242, \"character\": \"Jake Sully\", \"...</td>\n",
       "      <td>[{\"credit_id\": \"52fe48009251416c750aca23\", \"de...</td>\n",
       "    </tr>\n",
       "    <tr>\n",
       "      <th>1</th>\n",
       "      <td>285</td>\n",
       "      <td>Pirates of the Caribbean: At World's End</td>\n",
       "      <td>[{\"cast_id\": 4, \"character\": \"Captain Jack Spa...</td>\n",
       "      <td>[{\"credit_id\": \"52fe4232c3a36847f800b579\", \"de...</td>\n",
       "    </tr>\n",
       "    <tr>\n",
       "      <th>2</th>\n",
       "      <td>206647</td>\n",
       "      <td>Spectre</td>\n",
       "      <td>[{\"cast_id\": 1, \"character\": \"James Bond\", \"cr...</td>\n",
       "      <td>[{\"credit_id\": \"54805967c3a36829b5002c41\", \"de...</td>\n",
       "    </tr>\n",
       "    <tr>\n",
       "      <th>3</th>\n",
       "      <td>49026</td>\n",
       "      <td>The Dark Knight Rises</td>\n",
       "      <td>[{\"cast_id\": 2, \"character\": \"Bruce Wayne / Ba...</td>\n",
       "      <td>[{\"credit_id\": \"52fe4781c3a36847f81398c3\", \"de...</td>\n",
       "    </tr>\n",
       "    <tr>\n",
       "      <th>4</th>\n",
       "      <td>49529</td>\n",
       "      <td>John Carter</td>\n",
       "      <td>[{\"cast_id\": 5, \"character\": \"John Carter\", \"c...</td>\n",
       "      <td>[{\"credit_id\": \"52fe479ac3a36847f813eaa3\", \"de...</td>\n",
       "    </tr>\n",
       "  </tbody>\n",
       "</table>\n",
       "</div>"
      ],
      "text/plain": [
       "   movie_id                                     title  \\\n",
       "0     19995                                    Avatar   \n",
       "1       285  Pirates of the Caribbean: At World's End   \n",
       "2    206647                                   Spectre   \n",
       "3     49026                     The Dark Knight Rises   \n",
       "4     49529                               John Carter   \n",
       "\n",
       "                                                cast  \\\n",
       "0  [{\"cast_id\": 242, \"character\": \"Jake Sully\", \"...   \n",
       "1  [{\"cast_id\": 4, \"character\": \"Captain Jack Spa...   \n",
       "2  [{\"cast_id\": 1, \"character\": \"James Bond\", \"cr...   \n",
       "3  [{\"cast_id\": 2, \"character\": \"Bruce Wayne / Ba...   \n",
       "4  [{\"cast_id\": 5, \"character\": \"John Carter\", \"c...   \n",
       "\n",
       "                                                crew  \n",
       "0  [{\"credit_id\": \"52fe48009251416c750aca23\", \"de...  \n",
       "1  [{\"credit_id\": \"52fe4232c3a36847f800b579\", \"de...  \n",
       "2  [{\"credit_id\": \"54805967c3a36829b5002c41\", \"de...  \n",
       "3  [{\"credit_id\": \"52fe4781c3a36847f81398c3\", \"de...  \n",
       "4  [{\"credit_id\": \"52fe479ac3a36847f813eaa3\", \"de...  "
      ]
     },
     "execution_count": 4,
     "metadata": {},
     "output_type": "execute_result"
    }
   ],
   "source": [
    "# Menampilkan dataset2\n",
    "credits.head()"
   ]
  },
  {
   "cell_type": "markdown",
   "id": "3ba5b9df",
   "metadata": {},
   "source": [
    "### Exploratory Data Analysis"
   ]
  },
  {
   "cell_type": "code",
   "execution_count": 5,
   "id": "a34aaf82",
   "metadata": {
    "execution": {
     "iopub.execute_input": "2022-12-22T09:45:13.000711Z",
     "iopub.status.busy": "2022-12-22T09:45:12.999334Z",
     "iopub.status.idle": "2022-12-22T09:45:14.733972Z",
     "shell.execute_reply": "2022-12-22T09:45:14.732835Z",
     "shell.execute_reply.started": "2022-12-22T09:45:13.000650Z"
    }
   },
   "outputs": [],
   "source": [
    "# mengubah kolom genre dari json menjadi string\n",
    "movies['genres'] = movies['genres'].apply(json.loads)\n",
    "for index,i in zip(movies.index,movies['genres']):\n",
    "    list1 = []\n",
    "    for j in range(len(i)):\n",
    "        list1.append((i[j]['name'])) # the key 'name' contains the name of the genre\n",
    "    movies.loc[index,'genres'] = str(list1)"
   ]
  },
  {
   "cell_type": "code",
   "execution_count": 6,
   "id": "e669b121",
   "metadata": {
    "execution": {
     "iopub.execute_input": "2022-12-22T09:45:17.369881Z",
     "iopub.status.busy": "2022-12-22T09:45:17.369294Z",
     "iopub.status.idle": "2022-12-22T09:45:19.341001Z",
     "shell.execute_reply": "2022-12-22T09:45:19.339868Z",
     "shell.execute_reply.started": "2022-12-22T09:45:17.369836Z"
    }
   },
   "outputs": [],
   "source": [
    "# # mengubah kolom keywords dari json menjadi string\n",
    "movies['keywords'] = movies['keywords'].apply(json.loads)\n",
    "for index,i in zip(movies.index,movies['keywords']):\n",
    "    list1 = []\n",
    "    for j in range(len(i)):\n",
    "        list1.append((i[j]['name']))\n",
    "    movies.loc[index,'keywords'] = str(list1)"
   ]
  },
  {
   "cell_type": "code",
   "execution_count": 7,
   "id": "c81b8dcb",
   "metadata": {
    "execution": {
     "iopub.execute_input": "2022-12-22T09:45:22.339658Z",
     "iopub.status.busy": "2022-12-22T09:45:22.339261Z",
     "iopub.status.idle": "2022-12-22T09:45:24.036994Z",
     "shell.execute_reply": "2022-12-22T09:45:24.035940Z",
     "shell.execute_reply.started": "2022-12-22T09:45:22.339625Z"
    }
   },
   "outputs": [],
   "source": [
    "# mengubah kolom production_companis dari json menjadi string\n",
    "movies['production_companies'] = movies['production_companies'].apply(json.loads)\n",
    "for index,i in zip(movies.index,movies['production_companies']):\n",
    "    list1 = []\n",
    "    for j in range(len(i)):\n",
    "        list1.append((i[j]['name']))\n",
    "    movies.loc[index,'production_companies'] = str(list1)"
   ]
  },
  {
   "cell_type": "code",
   "execution_count": 8,
   "id": "2211312a",
   "metadata": {
    "execution": {
     "iopub.execute_input": "2022-12-22T09:45:27.059445Z",
     "iopub.status.busy": "2022-12-22T09:45:27.059083Z",
     "iopub.status.idle": "2022-12-22T09:45:29.404903Z",
     "shell.execute_reply": "2022-12-22T09:45:29.403865Z",
     "shell.execute_reply.started": "2022-12-22T09:45:27.059414Z"
    }
   },
   "outputs": [],
   "source": [
    "# mengubah kolom cast dari json menjadi string\n",
    "credits['cast'] = credits['cast'].apply(json.loads)\n",
    "for index,i in zip(credits.index,credits['cast']):\n",
    "    list1 = []\n",
    "    for j in range(len(i)):\n",
    "        list1.append((i[j]['name']))\n",
    "    credits.loc[index,'cast'] = str(list1)"
   ]
  },
  {
   "cell_type": "code",
   "execution_count": 9,
   "id": "19f3a067",
   "metadata": {
    "execution": {
     "iopub.execute_input": "2022-12-22T09:45:33.149220Z",
     "iopub.status.busy": "2022-12-22T09:45:33.148535Z",
     "iopub.status.idle": "2022-12-22T09:45:33.415343Z",
     "shell.execute_reply": "2022-12-22T09:45:33.414346Z",
     "shell.execute_reply.started": "2022-12-22T09:45:33.149168Z"
    }
   },
   "outputs": [],
   "source": [
    "# mengubah kolom crew dari json menjadi string\n",
    "credits['crew'] = credits['crew'].apply(json.loads)\n",
    "def director(x):\n",
    "    for i in x:\n",
    "        if i['job'] == 'Director':\n",
    "            return i['name']\n",
    "credits['crew'] = credits['crew'].apply(director)\n",
    "credits.rename(columns={'crew':'director'},inplace=True)"
   ]
  },
  {
   "cell_type": "code",
   "execution_count": 10,
   "id": "e1c89042",
   "metadata": {
    "execution": {
     "iopub.execute_input": "2022-12-22T09:45:37.074114Z",
     "iopub.status.busy": "2022-12-22T09:45:37.073402Z",
     "iopub.status.idle": "2022-12-22T09:45:37.097153Z",
     "shell.execute_reply": "2022-12-22T09:45:37.096064Z",
     "shell.execute_reply.started": "2022-12-22T09:45:37.074076Z"
    }
   },
   "outputs": [
    {
     "data": {
      "text/html": [
       "<div>\n",
       "<style scoped>\n",
       "    .dataframe tbody tr th:only-of-type {\n",
       "        vertical-align: middle;\n",
       "    }\n",
       "\n",
       "    .dataframe tbody tr th {\n",
       "        vertical-align: top;\n",
       "    }\n",
       "\n",
       "    .dataframe thead th {\n",
       "        text-align: right;\n",
       "    }\n",
       "</style>\n",
       "<table border=\"1\" class=\"dataframe\">\n",
       "  <thead>\n",
       "    <tr style=\"text-align: right;\">\n",
       "      <th></th>\n",
       "      <th>budget</th>\n",
       "      <th>genres</th>\n",
       "      <th>homepage</th>\n",
       "      <th>id</th>\n",
       "      <th>keywords</th>\n",
       "      <th>original_language</th>\n",
       "      <th>original_title</th>\n",
       "      <th>overview</th>\n",
       "      <th>popularity</th>\n",
       "      <th>production_companies</th>\n",
       "      <th>production_countries</th>\n",
       "      <th>release_date</th>\n",
       "      <th>revenue</th>\n",
       "      <th>runtime</th>\n",
       "      <th>spoken_languages</th>\n",
       "      <th>status</th>\n",
       "      <th>tagline</th>\n",
       "      <th>title</th>\n",
       "      <th>vote_average</th>\n",
       "      <th>vote_count</th>\n",
       "    </tr>\n",
       "  </thead>\n",
       "  <tbody>\n",
       "    <tr>\n",
       "      <th>0</th>\n",
       "      <td>237000000</td>\n",
       "      <td>['Action', 'Adventure', 'Fantasy', 'Science Fi...</td>\n",
       "      <td>http://www.avatarmovie.com/</td>\n",
       "      <td>19995</td>\n",
       "      <td>['culture clash', 'future', 'space war', 'spac...</td>\n",
       "      <td>en</td>\n",
       "      <td>Avatar</td>\n",
       "      <td>In the 22nd century, a paraplegic Marine is di...</td>\n",
       "      <td>150.437577</td>\n",
       "      <td>['Ingenious Film Partners', 'Twentieth Century...</td>\n",
       "      <td>[{\"iso_3166_1\": \"US\", \"name\": \"United States o...</td>\n",
       "      <td>2009-12-10</td>\n",
       "      <td>2787965087</td>\n",
       "      <td>162.0</td>\n",
       "      <td>[{\"iso_639_1\": \"en\", \"name\": \"English\"}, {\"iso...</td>\n",
       "      <td>Released</td>\n",
       "      <td>Enter the World of Pandora.</td>\n",
       "      <td>Avatar</td>\n",
       "      <td>7.2</td>\n",
       "      <td>11800</td>\n",
       "    </tr>\n",
       "    <tr>\n",
       "      <th>1</th>\n",
       "      <td>300000000</td>\n",
       "      <td>['Adventure', 'Fantasy', 'Action']</td>\n",
       "      <td>http://disney.go.com/disneypictures/pirates/</td>\n",
       "      <td>285</td>\n",
       "      <td>['ocean', 'drug abuse', 'exotic island', 'east...</td>\n",
       "      <td>en</td>\n",
       "      <td>Pirates of the Caribbean: At World's End</td>\n",
       "      <td>Captain Barbossa, long believed to be dead, ha...</td>\n",
       "      <td>139.082615</td>\n",
       "      <td>['Walt Disney Pictures', 'Jerry Bruckheimer Fi...</td>\n",
       "      <td>[{\"iso_3166_1\": \"US\", \"name\": \"United States o...</td>\n",
       "      <td>2007-05-19</td>\n",
       "      <td>961000000</td>\n",
       "      <td>169.0</td>\n",
       "      <td>[{\"iso_639_1\": \"en\", \"name\": \"English\"}]</td>\n",
       "      <td>Released</td>\n",
       "      <td>At the end of the world, the adventure begins.</td>\n",
       "      <td>Pirates of the Caribbean: At World's End</td>\n",
       "      <td>6.9</td>\n",
       "      <td>4500</td>\n",
       "    </tr>\n",
       "    <tr>\n",
       "      <th>2</th>\n",
       "      <td>245000000</td>\n",
       "      <td>['Action', 'Adventure', 'Crime']</td>\n",
       "      <td>http://www.sonypictures.com/movies/spectre/</td>\n",
       "      <td>206647</td>\n",
       "      <td>['spy', 'based on novel', 'secret agent', 'seq...</td>\n",
       "      <td>en</td>\n",
       "      <td>Spectre</td>\n",
       "      <td>A cryptic message from Bond’s past sends him o...</td>\n",
       "      <td>107.376788</td>\n",
       "      <td>['Columbia Pictures', 'Danjaq', 'B24']</td>\n",
       "      <td>[{\"iso_3166_1\": \"GB\", \"name\": \"United Kingdom\"...</td>\n",
       "      <td>2015-10-26</td>\n",
       "      <td>880674609</td>\n",
       "      <td>148.0</td>\n",
       "      <td>[{\"iso_639_1\": \"fr\", \"name\": \"Fran\\u00e7ais\"},...</td>\n",
       "      <td>Released</td>\n",
       "      <td>A Plan No One Escapes</td>\n",
       "      <td>Spectre</td>\n",
       "      <td>6.3</td>\n",
       "      <td>4466</td>\n",
       "    </tr>\n",
       "    <tr>\n",
       "      <th>3</th>\n",
       "      <td>250000000</td>\n",
       "      <td>['Action', 'Crime', 'Drama', 'Thriller']</td>\n",
       "      <td>http://www.thedarkknightrises.com/</td>\n",
       "      <td>49026</td>\n",
       "      <td>['dc comics', 'crime fighter', 'terrorist', 's...</td>\n",
       "      <td>en</td>\n",
       "      <td>The Dark Knight Rises</td>\n",
       "      <td>Following the death of District Attorney Harve...</td>\n",
       "      <td>112.312950</td>\n",
       "      <td>['Legendary Pictures', 'Warner Bros.', 'DC Ent...</td>\n",
       "      <td>[{\"iso_3166_1\": \"US\", \"name\": \"United States o...</td>\n",
       "      <td>2012-07-16</td>\n",
       "      <td>1084939099</td>\n",
       "      <td>165.0</td>\n",
       "      <td>[{\"iso_639_1\": \"en\", \"name\": \"English\"}]</td>\n",
       "      <td>Released</td>\n",
       "      <td>The Legend Ends</td>\n",
       "      <td>The Dark Knight Rises</td>\n",
       "      <td>7.6</td>\n",
       "      <td>9106</td>\n",
       "    </tr>\n",
       "    <tr>\n",
       "      <th>4</th>\n",
       "      <td>260000000</td>\n",
       "      <td>['Action', 'Adventure', 'Science Fiction']</td>\n",
       "      <td>http://movies.disney.com/john-carter</td>\n",
       "      <td>49529</td>\n",
       "      <td>['based on novel', 'mars', 'medallion', 'space...</td>\n",
       "      <td>en</td>\n",
       "      <td>John Carter</td>\n",
       "      <td>John Carter is a war-weary, former military ca...</td>\n",
       "      <td>43.926995</td>\n",
       "      <td>['Walt Disney Pictures']</td>\n",
       "      <td>[{\"iso_3166_1\": \"US\", \"name\": \"United States o...</td>\n",
       "      <td>2012-03-07</td>\n",
       "      <td>284139100</td>\n",
       "      <td>132.0</td>\n",
       "      <td>[{\"iso_639_1\": \"en\", \"name\": \"English\"}]</td>\n",
       "      <td>Released</td>\n",
       "      <td>Lost in our world, found in another.</td>\n",
       "      <td>John Carter</td>\n",
       "      <td>6.1</td>\n",
       "      <td>2124</td>\n",
       "    </tr>\n",
       "  </tbody>\n",
       "</table>\n",
       "</div>"
      ],
      "text/plain": [
       "      budget                                             genres  \\\n",
       "0  237000000  ['Action', 'Adventure', 'Fantasy', 'Science Fi...   \n",
       "1  300000000                 ['Adventure', 'Fantasy', 'Action']   \n",
       "2  245000000                   ['Action', 'Adventure', 'Crime']   \n",
       "3  250000000           ['Action', 'Crime', 'Drama', 'Thriller']   \n",
       "4  260000000         ['Action', 'Adventure', 'Science Fiction']   \n",
       "\n",
       "                                       homepage      id  \\\n",
       "0                   http://www.avatarmovie.com/   19995   \n",
       "1  http://disney.go.com/disneypictures/pirates/     285   \n",
       "2   http://www.sonypictures.com/movies/spectre/  206647   \n",
       "3            http://www.thedarkknightrises.com/   49026   \n",
       "4          http://movies.disney.com/john-carter   49529   \n",
       "\n",
       "                                            keywords original_language  \\\n",
       "0  ['culture clash', 'future', 'space war', 'spac...                en   \n",
       "1  ['ocean', 'drug abuse', 'exotic island', 'east...                en   \n",
       "2  ['spy', 'based on novel', 'secret agent', 'seq...                en   \n",
       "3  ['dc comics', 'crime fighter', 'terrorist', 's...                en   \n",
       "4  ['based on novel', 'mars', 'medallion', 'space...                en   \n",
       "\n",
       "                             original_title  \\\n",
       "0                                    Avatar   \n",
       "1  Pirates of the Caribbean: At World's End   \n",
       "2                                   Spectre   \n",
       "3                     The Dark Knight Rises   \n",
       "4                               John Carter   \n",
       "\n",
       "                                            overview  popularity  \\\n",
       "0  In the 22nd century, a paraplegic Marine is di...  150.437577   \n",
       "1  Captain Barbossa, long believed to be dead, ha...  139.082615   \n",
       "2  A cryptic message from Bond’s past sends him o...  107.376788   \n",
       "3  Following the death of District Attorney Harve...  112.312950   \n",
       "4  John Carter is a war-weary, former military ca...   43.926995   \n",
       "\n",
       "                                production_companies  \\\n",
       "0  ['Ingenious Film Partners', 'Twentieth Century...   \n",
       "1  ['Walt Disney Pictures', 'Jerry Bruckheimer Fi...   \n",
       "2             ['Columbia Pictures', 'Danjaq', 'B24']   \n",
       "3  ['Legendary Pictures', 'Warner Bros.', 'DC Ent...   \n",
       "4                           ['Walt Disney Pictures']   \n",
       "\n",
       "                                production_countries release_date     revenue  \\\n",
       "0  [{\"iso_3166_1\": \"US\", \"name\": \"United States o...   2009-12-10  2787965087   \n",
       "1  [{\"iso_3166_1\": \"US\", \"name\": \"United States o...   2007-05-19   961000000   \n",
       "2  [{\"iso_3166_1\": \"GB\", \"name\": \"United Kingdom\"...   2015-10-26   880674609   \n",
       "3  [{\"iso_3166_1\": \"US\", \"name\": \"United States o...   2012-07-16  1084939099   \n",
       "4  [{\"iso_3166_1\": \"US\", \"name\": \"United States o...   2012-03-07   284139100   \n",
       "\n",
       "   runtime                                   spoken_languages    status  \\\n",
       "0    162.0  [{\"iso_639_1\": \"en\", \"name\": \"English\"}, {\"iso...  Released   \n",
       "1    169.0           [{\"iso_639_1\": \"en\", \"name\": \"English\"}]  Released   \n",
       "2    148.0  [{\"iso_639_1\": \"fr\", \"name\": \"Fran\\u00e7ais\"},...  Released   \n",
       "3    165.0           [{\"iso_639_1\": \"en\", \"name\": \"English\"}]  Released   \n",
       "4    132.0           [{\"iso_639_1\": \"en\", \"name\": \"English\"}]  Released   \n",
       "\n",
       "                                          tagline  \\\n",
       "0                     Enter the World of Pandora.   \n",
       "1  At the end of the world, the adventure begins.   \n",
       "2                           A Plan No One Escapes   \n",
       "3                                 The Legend Ends   \n",
       "4            Lost in our world, found in another.   \n",
       "\n",
       "                                      title  vote_average  vote_count  \n",
       "0                                    Avatar           7.2       11800  \n",
       "1  Pirates of the Caribbean: At World's End           6.9        4500  \n",
       "2                                   Spectre           6.3        4466  \n",
       "3                     The Dark Knight Rises           7.6        9106  \n",
       "4                               John Carter           6.1        2124  "
      ]
     },
     "execution_count": 10,
     "metadata": {},
     "output_type": "execute_result"
    }
   ],
   "source": [
    "movies.head()"
   ]
  },
  {
   "cell_type": "code",
   "execution_count": 11,
   "id": "537418a4",
   "metadata": {
    "execution": {
     "iopub.execute_input": "2022-12-22T09:45:40.169750Z",
     "iopub.status.busy": "2022-12-22T09:45:40.168616Z",
     "iopub.status.idle": "2022-12-22T09:45:40.180686Z",
     "shell.execute_reply": "2022-12-22T09:45:40.179459Z",
     "shell.execute_reply.started": "2022-12-22T09:45:40.169702Z"
    }
   },
   "outputs": [
    {
     "data": {
      "text/plain": [
       "budget                                                          260000000\n",
       "genres                                            ['Animation', 'Family']\n",
       "homepage                     http://disney.go.com/disneypictures/tangled/\n",
       "id                                                                  38757\n",
       "keywords                ['hostage', 'magic', 'horse', 'fairy tale', 'm...\n",
       "original_language                                                      en\n",
       "original_title                                                    Tangled\n",
       "overview                When the kingdom's most wanted-and most charmi...\n",
       "popularity                                                      48.681969\n",
       "production_companies    ['Walt Disney Pictures', 'Walt Disney Animatio...\n",
       "production_countries    [{\"iso_3166_1\": \"US\", \"name\": \"United States o...\n",
       "release_date                                                   2010-11-24\n",
       "revenue                                                         591794936\n",
       "runtime                                                             100.0\n",
       "spoken_languages                 [{\"iso_639_1\": \"en\", \"name\": \"English\"}]\n",
       "status                                                           Released\n",
       "tagline                          They're taking adventure to new lengths.\n",
       "title                                                             Tangled\n",
       "vote_average                                                          7.4\n",
       "vote_count                                                           3330\n",
       "Name: 6, dtype: object"
      ]
     },
     "execution_count": 11,
     "metadata": {},
     "output_type": "execute_result"
    }
   ],
   "source": [
    "movies.iloc[6]"
   ]
  },
  {
   "cell_type": "code",
   "execution_count": 12,
   "id": "21a69ea0",
   "metadata": {
    "execution": {
     "iopub.execute_input": "2022-12-22T09:45:43.149319Z",
     "iopub.status.busy": "2022-12-22T09:45:43.148121Z",
     "iopub.status.idle": "2022-12-22T09:45:43.188416Z",
     "shell.execute_reply": "2022-12-22T09:45:43.187336Z",
     "shell.execute_reply.started": "2022-12-22T09:45:43.149265Z"
    }
   },
   "outputs": [],
   "source": [
    "# menggabungkan 2 dataset credits dan movie_id\n",
    "movies = movies.merge(credits,left_on='id',right_on='movie_id',how='left')\n",
    "movies = movies[['id','original_title','genres','cast','vote_average','director','keywords']]"
   ]
  },
  {
   "cell_type": "code",
   "execution_count": 13,
   "id": "05b85fe0",
   "metadata": {
    "execution": {
     "iopub.execute_input": "2022-12-22T09:45:46.874025Z",
     "iopub.status.busy": "2022-12-22T09:45:46.873497Z",
     "iopub.status.idle": "2022-12-22T09:45:46.885929Z",
     "shell.execute_reply": "2022-12-22T09:45:46.883981Z",
     "shell.execute_reply.started": "2022-12-22T09:45:46.873980Z"
    }
   },
   "outputs": [
    {
     "data": {
      "text/plain": [
       "id                                                              597\n",
       "original_title                                              Titanic\n",
       "genres                             ['Drama', 'Romance', 'Thriller']\n",
       "cast              ['Kate Winslet', 'Leonardo DiCaprio', 'Frances...\n",
       "vote_average                                                    7.5\n",
       "director                                              James Cameron\n",
       "keywords          ['shipwreck', 'iceberg', 'ship', 'panic', 'tit...\n",
       "Name: 25, dtype: object"
      ]
     },
     "execution_count": 13,
     "metadata": {},
     "output_type": "execute_result"
    }
   ],
   "source": [
    "movies.iloc[25]"
   ]
  },
  {
   "cell_type": "code",
   "execution_count": 14,
   "id": "6784f673",
   "metadata": {
    "execution": {
     "iopub.execute_input": "2022-12-22T09:45:49.679071Z",
     "iopub.status.busy": "2022-12-22T09:45:49.678607Z",
     "iopub.status.idle": "2022-12-22T09:45:49.686676Z",
     "shell.execute_reply": "2022-12-22T09:45:49.685599Z",
     "shell.execute_reply.started": "2022-12-22T09:45:49.679028Z"
    }
   },
   "outputs": [
    {
     "data": {
      "text/plain": [
       "(4803, 7)"
      ]
     },
     "execution_count": 14,
     "metadata": {},
     "output_type": "execute_result"
    }
   ],
   "source": [
    "movies.shape"
   ]
  },
  {
   "cell_type": "code",
   "execution_count": 15,
   "id": "5b6121ea",
   "metadata": {
    "execution": {
     "iopub.execute_input": "2022-12-22T09:45:51.619347Z",
     "iopub.status.busy": "2022-12-22T09:45:51.618897Z",
     "iopub.status.idle": "2022-12-22T09:45:51.632319Z",
     "shell.execute_reply": "2022-12-22T09:45:51.631059Z",
     "shell.execute_reply.started": "2022-12-22T09:45:51.619305Z"
    }
   },
   "outputs": [
    {
     "data": {
      "text/plain": [
       "33621"
      ]
     },
     "execution_count": 15,
     "metadata": {},
     "output_type": "execute_result"
    }
   ],
   "source": [
    "movies.size"
   ]
  },
  {
   "cell_type": "code",
   "execution_count": 16,
   "id": "d640af6a",
   "metadata": {
    "execution": {
     "iopub.execute_input": "2022-12-22T09:45:54.468847Z",
     "iopub.status.busy": "2022-12-22T09:45:54.468300Z",
     "iopub.status.idle": "2022-12-22T09:45:54.476883Z",
     "shell.execute_reply": "2022-12-22T09:45:54.475481Z",
     "shell.execute_reply.started": "2022-12-22T09:45:54.468803Z"
    }
   },
   "outputs": [
    {
     "data": {
      "text/plain": [
       "Int64Index([   0,    1,    2,    3,    4,    5,    6,    7,    8,    9,\n",
       "            ...\n",
       "            4793, 4794, 4795, 4796, 4797, 4798, 4799, 4800, 4801, 4802],\n",
       "           dtype='int64', length=4803)"
      ]
     },
     "execution_count": 16,
     "metadata": {},
     "output_type": "execute_result"
    }
   ],
   "source": [
    "movies.index"
   ]
  },
  {
   "cell_type": "code",
   "execution_count": 17,
   "id": "0771b112",
   "metadata": {
    "execution": {
     "iopub.execute_input": "2022-12-22T09:46:01.255638Z",
     "iopub.status.busy": "2022-12-22T09:46:01.255243Z",
     "iopub.status.idle": "2022-12-22T09:46:01.265168Z",
     "shell.execute_reply": "2022-12-22T09:46:01.263979Z",
     "shell.execute_reply.started": "2022-12-22T09:46:01.255605Z"
    }
   },
   "outputs": [
    {
     "data": {
      "text/plain": [
       "Index(['id', 'original_title', 'genres', 'cast', 'vote_average', 'director',\n",
       "       'keywords'],\n",
       "      dtype='object')"
      ]
     },
     "execution_count": 17,
     "metadata": {},
     "output_type": "execute_result"
    }
   ],
   "source": [
    "movies.columns"
   ]
  },
  {
   "cell_type": "code",
   "execution_count": 18,
   "id": "dee6cc51",
   "metadata": {
    "execution": {
     "iopub.execute_input": "2022-12-22T09:46:03.408878Z",
     "iopub.status.busy": "2022-12-22T09:46:03.408282Z",
     "iopub.status.idle": "2022-12-22T09:46:03.419505Z",
     "shell.execute_reply": "2022-12-22T09:46:03.418410Z",
     "shell.execute_reply.started": "2022-12-22T09:46:03.408829Z"
    }
   },
   "outputs": [
    {
     "data": {
      "text/plain": [
       "id                  int64\n",
       "original_title     object\n",
       "genres             object\n",
       "cast               object\n",
       "vote_average      float64\n",
       "director           object\n",
       "keywords           object\n",
       "dtype: object"
      ]
     },
     "execution_count": 18,
     "metadata": {},
     "output_type": "execute_result"
    }
   ],
   "source": [
    "movies.dtypes"
   ]
  },
  {
   "cell_type": "markdown",
   "id": "f9f1b28f",
   "metadata": {},
   "source": [
    "### Visualisasi Data Kolom Genre"
   ]
  },
  {
   "cell_type": "code",
   "execution_count": 19,
   "id": "ae32feaf",
   "metadata": {
    "execution": {
     "iopub.execute_input": "2022-12-22T09:46:07.013619Z",
     "iopub.status.busy": "2022-12-22T09:46:07.013234Z",
     "iopub.status.idle": "2022-12-22T09:46:07.035130Z",
     "shell.execute_reply": "2022-12-22T09:46:07.034054Z",
     "shell.execute_reply.started": "2022-12-22T09:46:07.013583Z"
    }
   },
   "outputs": [],
   "source": [
    "movies['genres'] = movies['genres'].str.strip('[]').str.replace(' ','').str.replace(\"'\",'')\n",
    "movies['genres'] = movies['genres'].str.split(',')"
   ]
  },
  {
   "cell_type": "code",
   "execution_count": 20,
   "id": "db095d6c",
   "metadata": {
    "execution": {
     "iopub.execute_input": "2022-12-22T09:46:11.058500Z",
     "iopub.status.busy": "2022-12-22T09:46:11.058123Z",
     "iopub.status.idle": "2022-12-22T09:46:11.548603Z",
     "shell.execute_reply": "2022-12-22T09:46:11.547536Z",
     "shell.execute_reply.started": "2022-12-22T09:46:11.058469Z"
    }
   },
   "outputs": [
    {
     "data": {
      "image/png": "[encoded data removed]",
      "text/plain": [
       "<Figure size 864x720 with 1 Axes>"
      ]
     },
     "metadata": {},
     "output_type": "display_data"
    }
   ],
   "source": [
    "plt.subplots(figsize=(12,10))\n",
    "list1 = []\n",
    "for i in movies['genres']:\n",
    "    list1.extend(i)\n",
    "ax = pd.Series(list1).value_counts()[:10].sort_values(ascending=True).plot.barh(width=0.9,color=sns.color_palette('hls',10))\n",
    "for i, v in enumerate(pd.Series(list1).value_counts()[:10].sort_values(ascending=True).values): \n",
    "    ax.text(.8, i, v,fontsize=12,color='white',weight='bold')\n",
    "plt.title('Top Genres')\n",
    "plt.savefig('genres.jpg',bbox_inches='tight')\n",
    "plt.show()"
   ]
  },
  {
   "cell_type": "code",
   "execution_count": 21,
   "id": "e336f1ef",
   "metadata": {
    "execution": {
     "iopub.execute_input": "2022-12-22T09:46:16.829686Z",
     "iopub.status.busy": "2022-12-22T09:46:16.828608Z",
     "iopub.status.idle": "2022-12-22T09:46:18.446611Z",
     "shell.execute_reply": "2022-12-22T09:46:18.445614Z",
     "shell.execute_reply.started": "2022-12-22T09:46:16.829636Z"
    }
   },
   "outputs": [],
   "source": [
    "for i,j in zip(movies['genres'],movies.index):\n",
    "    list2=[]\n",
    "    list2=i\n",
    "    list2.sort()\n",
    "    movies.loc[j,'genres']=str(list2)\n",
    "movies['genres'] = movies['genres'].str.strip('[]').str.replace(' ','').str.replace(\"'\",'')\n",
    "movies['genres'] = movies['genres'].str.split(',')"
   ]
  },
  {
   "cell_type": "code",
   "execution_count": 22,
   "id": "4a6edc21",
   "metadata": {
    "execution": {
     "iopub.execute_input": "2022-12-22T09:46:21.388441Z",
     "iopub.status.busy": "2022-12-22T09:46:21.388032Z",
     "iopub.status.idle": "2022-12-22T09:46:21.627567Z",
     "shell.execute_reply": "2022-12-22T09:46:21.626534Z",
     "shell.execute_reply.started": "2022-12-22T09:46:21.388405Z"
    }
   },
   "outputs": [
    {
     "data": {
      "text/plain": [
       "['Action',\n",
       " 'Adventure',\n",
       " 'Fantasy',\n",
       " 'ScienceFiction',\n",
       " 'Crime',\n",
       " 'Drama',\n",
       " 'Thriller',\n",
       " 'Animation',\n",
       " 'Family',\n",
       " 'Western',\n",
       " 'Comedy',\n",
       " 'Romance',\n",
       " 'Horror',\n",
       " 'Mystery',\n",
       " 'History',\n",
       " 'War',\n",
       " 'Music',\n",
       " 'Documentary',\n",
       " 'Foreign',\n",
       " 'TVMovie',\n",
       " '']"
      ]
     },
     "execution_count": 22,
     "metadata": {},
     "output_type": "execute_result"
    }
   ],
   "source": [
    "genreList = []\n",
    "for index, row in movies.iterrows():\n",
    "    genres = row[\"genres\"]\n",
    "    for genre in genres:\n",
    "        if genre not in genreList:\n",
    "            genreList.append(genre)\n",
    "genreList"
   ]
  },
  {
   "cell_type": "code",
   "execution_count": 23,
   "id": "ef20384d",
   "metadata": {
    "execution": {
     "iopub.execute_input": "2022-12-22T09:46:25.603989Z",
     "iopub.status.busy": "2022-12-22T09:46:25.603629Z",
     "iopub.status.idle": "2022-12-22T09:46:25.610058Z",
     "shell.execute_reply": "2022-12-22T09:46:25.608839Z",
     "shell.execute_reply.started": "2022-12-22T09:46:25.603951Z"
    }
   },
   "outputs": [],
   "source": [
    "def binary(genre_list):\n",
    "    binaryList = []\n",
    "    for genre in genreList:\n",
    "        if genre in genre_list:\n",
    "            binaryList.append(1)\n",
    "        else:\n",
    "            binaryList.append(0)\n",
    "    return binaryList"
   ]
  },
  {
   "cell_type": "code",
   "execution_count": 24,
   "id": "1a3e399f",
   "metadata": {
    "execution": {
     "iopub.execute_input": "2022-12-22T09:46:29.229379Z",
     "iopub.status.busy": "2022-12-22T09:46:29.228719Z",
     "iopub.status.idle": "2022-12-22T09:46:29.263746Z",
     "shell.execute_reply": "2022-12-22T09:46:29.262540Z",
     "shell.execute_reply.started": "2022-12-22T09:46:29.229343Z"
    }
   },
   "outputs": [
    {
     "data": {
      "text/plain": [
       "0    [1, 1, 1, 1, 0, 0, 0, 0, 0, 0, 0, 0, 0, 0, 0, ...\n",
       "1    [1, 1, 1, 0, 0, 0, 0, 0, 0, 0, 0, 0, 0, 0, 0, ...\n",
       "2    [1, 1, 0, 0, 1, 0, 0, 0, 0, 0, 0, 0, 0, 0, 0, ...\n",
       "3    [1, 0, 0, 0, 1, 1, 1, 0, 0, 0, 0, 0, 0, 0, 0, ...\n",
       "4    [1, 1, 0, 1, 0, 0, 0, 0, 0, 0, 0, 0, 0, 0, 0, ...\n",
       "Name: genres_bin, dtype: object"
      ]
     },
     "execution_count": 24,
     "metadata": {},
     "output_type": "execute_result"
    }
   ],
   "source": [
    "movies['genres_bin'] = movies['genres'].apply(lambda x: binary(x))\n",
    "movies['genres_bin'].head()"
   ]
  },
  {
   "cell_type": "markdown",
   "id": "5946874b",
   "metadata": {},
   "source": [
    "### Visualisasi data kolom actor"
   ]
  },
  {
   "cell_type": "code",
   "execution_count": 25,
   "id": "f4ec535f",
   "metadata": {
    "execution": {
     "iopub.execute_input": "2022-12-22T09:46:33.274300Z",
     "iopub.status.busy": "2022-12-22T09:46:33.273313Z",
     "iopub.status.idle": "2022-12-22T09:46:33.322404Z",
     "shell.execute_reply": "2022-12-22T09:46:33.321392Z",
     "shell.execute_reply.started": "2022-12-22T09:46:33.274262Z"
    }
   },
   "outputs": [],
   "source": [
    "movies['cast'] = movies['cast'].str.strip('[]').str.replace(' ','').str.replace(\"'\",'').str.replace('\"','')\n",
    "movies['cast'] = movies['cast'].str.split(',')"
   ]
  },
  {
   "cell_type": "code",
   "execution_count": 26,
   "id": "514da6a0",
   "metadata": {
    "execution": {
     "iopub.execute_input": "2022-12-22T09:46:37.214372Z",
     "iopub.status.busy": "2022-12-22T09:46:37.213460Z",
     "iopub.status.idle": "2022-12-22T09:46:37.624442Z",
     "shell.execute_reply": "2022-12-22T09:46:37.623523Z",
     "shell.execute_reply.started": "2022-12-22T09:46:37.214318Z"
    }
   },
   "outputs": [
    {
     "data": {
      "image/png": "[encoded data removed]",
      "text/plain": [
       "<Figure size 864x720 with 1 Axes>"
      ]
     },
     "metadata": {},
     "output_type": "display_data"
    }
   ],
   "source": [
    "plt.subplots(figsize=(12,10))\n",
    "list1=[]\n",
    "for i in movies['cast']:\n",
    "    list1.extend(i)\n",
    "ax=pd.Series(list1).value_counts()[:15].sort_values(ascending=True).plot.barh(width=0.9,color=sns.color_palette('muted',40))\n",
    "for i, v in enumerate(pd.Series(list1).value_counts()[:15].sort_values(ascending=True).values): \n",
    "    ax.text(.8, i, v,fontsize=10,color='white',weight='bold')\n",
    "plt.title('Aktor dengan jumlah film terbanyak')\n",
    "plt.show()"
   ]
  },
  {
   "cell_type": "code",
   "execution_count": 27,
   "id": "d172d729",
   "metadata": {
    "execution": {
     "iopub.execute_input": "2022-12-22T09:46:42.419348Z",
     "iopub.status.busy": "2022-12-22T09:46:42.418946Z",
     "iopub.status.idle": "2022-12-22T09:46:46.598699Z",
     "shell.execute_reply": "2022-12-22T09:46:46.597505Z",
     "shell.execute_reply.started": "2022-12-22T09:46:42.419315Z"
    }
   },
   "outputs": [],
   "source": [
    "for i,j in zip(movies['cast'],movies.index):\n",
    "    list2 = []\n",
    "    list2 = i[:4]\n",
    "    movies.loc[j,'cast'] = str(list2)\n",
    "movies['cast'] = movies['cast'].str.strip('[]').str.replace(' ','').str.replace(\"'\",'')\n",
    "movies['cast'] = movies['cast'].str.split(',')\n",
    "for i,j in zip(movies['cast'],movies.index):\n",
    "    list2 = []\n",
    "    list2 = i\n",
    "    list2.sort()\n",
    "    movies.loc[j,'cast'] = str(list2)\n",
    "movies['cast']=movies['cast'].str.strip('[]').str.replace(' ','').str.replace(\"'\",'')"
   ]
  },
  {
   "cell_type": "code",
   "execution_count": 28,
   "id": "37f0d6fe",
   "metadata": {
    "execution": {
     "iopub.execute_input": "2022-12-22T09:46:55.244399Z",
     "iopub.status.busy": "2022-12-22T09:46:55.244004Z",
     "iopub.status.idle": "2022-12-22T09:46:55.568978Z",
     "shell.execute_reply": "2022-12-22T09:46:55.567830Z",
     "shell.execute_reply.started": "2022-12-22T09:46:55.244366Z"
    }
   },
   "outputs": [],
   "source": [
    "castList = []\n",
    "for index, row in movies.iterrows():\n",
    "    cast = row[\"cast\"]\n",
    "    for i in cast:\n",
    "        if i not in castList:\n",
    "            castList.append(i)"
   ]
  },
  {
   "cell_type": "code",
   "execution_count": 29,
   "id": "09a3b2ab",
   "metadata": {
    "execution": {
     "iopub.execute_input": "2022-12-22T09:46:58.574492Z",
     "iopub.status.busy": "2022-12-22T09:46:58.573402Z",
     "iopub.status.idle": "2022-12-22T09:46:58.581429Z",
     "shell.execute_reply": "2022-12-22T09:46:58.580285Z",
     "shell.execute_reply.started": "2022-12-22T09:46:58.574455Z"
    }
   },
   "outputs": [
    {
     "data": {
      "text/plain": [
       "126"
      ]
     },
     "execution_count": 29,
     "metadata": {},
     "output_type": "execute_result"
    }
   ],
   "source": [
    "len(castList)"
   ]
  },
  {
   "cell_type": "code",
   "execution_count": 30,
   "id": "3ce810fe",
   "metadata": {
    "execution": {
     "iopub.execute_input": "2022-12-22T09:47:01.093622Z",
     "iopub.status.busy": "2022-12-22T09:47:01.093209Z",
     "iopub.status.idle": "2022-12-22T09:47:01.099260Z",
     "shell.execute_reply": "2022-12-22T09:47:01.098106Z",
     "shell.execute_reply.started": "2022-12-22T09:47:01.093579Z"
    }
   },
   "outputs": [],
   "source": [
    "def binary(cast_list):\n",
    "    binaryList = []\n",
    "    for genre in castList:\n",
    "        if genre in cast_list:\n",
    "            binaryList.append(1)\n",
    "        else:\n",
    "            binaryList.append(0)\n",
    "    return binaryList"
   ]
  },
  {
   "cell_type": "code",
   "execution_count": 31,
   "id": "2a21ae5a",
   "metadata": {
    "execution": {
     "iopub.execute_input": "2022-12-22T09:47:05.948354Z",
     "iopub.status.busy": "2022-12-22T09:47:05.947978Z",
     "iopub.status.idle": "2022-12-22T09:47:06.154899Z",
     "shell.execute_reply": "2022-12-22T09:47:06.153600Z",
     "shell.execute_reply.started": "2022-12-22T09:47:05.948322Z"
    }
   },
   "outputs": [
    {
     "data": {
      "text/plain": [
       "0    [1, 1, 1, 1, 1, 1, 1, 1, 1, 1, 1, 1, 1, 1, 1, ...\n",
       "1    [1, 1, 1, 0, 1, 1, 1, 1, 1, 1, 1, 1, 0, 1, 1, ...\n",
       "2    [1, 1, 0, 1, 1, 1, 1, 1, 1, 1, 1, 1, 1, 1, 1, ...\n",
       "3    [0, 1, 1, 0, 0, 1, 1, 1, 1, 1, 0, 1, 0, 1, 1, ...\n",
       "4    [1, 1, 1, 1, 1, 1, 1, 1, 1, 1, 0, 1, 0, 1, 1, ...\n",
       "Name: cast_bin, dtype: object"
      ]
     },
     "execution_count": 31,
     "metadata": {},
     "output_type": "execute_result"
    }
   ],
   "source": [
    "movies['cast_bin'] = movies['cast'].apply(lambda x: binary(x))\n",
    "movies['cast_bin'].head()"
   ]
  },
  {
   "cell_type": "markdown",
   "id": "372aa1b8",
   "metadata": {},
   "source": [
    "### Visualisasi data kolom director"
   ]
  },
  {
   "cell_type": "code",
   "execution_count": 32,
   "id": "aaee34be",
   "metadata": {
    "execution": {
     "iopub.execute_input": "2022-12-22T09:47:09.530255Z",
     "iopub.status.busy": "2022-12-22T09:47:09.529459Z",
     "iopub.status.idle": "2022-12-22T09:47:09.539229Z",
     "shell.execute_reply": "2022-12-22T09:47:09.537871Z",
     "shell.execute_reply.started": "2022-12-22T09:47:09.530216Z"
    }
   },
   "outputs": [],
   "source": [
    "def xstr(s):\n",
    "    if s is None:\n",
    "        return ''\n",
    "    return str(s)\n",
    "movies['director'] = movies['director'].apply(xstr)"
   ]
  },
  {
   "cell_type": "code",
   "execution_count": 33,
   "id": "cd4dcab2",
   "metadata": {
    "execution": {
     "iopub.execute_input": "2022-12-22T09:47:13.560168Z",
     "iopub.status.busy": "2022-12-22T09:47:13.559674Z",
     "iopub.status.idle": "2022-12-22T09:47:14.002377Z",
     "shell.execute_reply": "2022-12-22T09:47:14.001357Z",
     "shell.execute_reply.started": "2022-12-22T09:47:13.560122Z"
    }
   },
   "outputs": [
    {
     "data": {
      "image/png": "[encoded data removed]",
      "text/plain": [
       "<Figure size 864x720 with 1 Axes>"
      ]
     },
     "metadata": {},
     "output_type": "display_data"
    }
   ],
   "source": [
    "plt.subplots(figsize=(12,10))\n",
    "ax = movies[movies['director']!=''].director.value_counts()[:10].sort_values(ascending=True).plot.barh(width=0.9,color=sns.color_palette('muted',40))\n",
    "for i, v in enumerate(movies[movies['director']!=''].director.value_counts()[:10].sort_values(ascending=True).values): \n",
    "    ax.text(.5, i, v,fontsize=12,color='white',weight='bold')\n",
    "plt.title('Directors dengan film terbanyak')\n",
    "plt.savefig('director.jpg',bbox_inches='tight')\n",
    "plt.show()"
   ]
  },
  {
   "cell_type": "code",
   "execution_count": 34,
   "id": "5c9aae80",
   "metadata": {
    "execution": {
     "iopub.execute_input": "2022-12-22T09:47:19.350075Z",
     "iopub.status.busy": "2022-12-22T09:47:19.349159Z",
     "iopub.status.idle": "2022-12-22T09:47:19.459751Z",
     "shell.execute_reply": "2022-12-22T09:47:19.458616Z",
     "shell.execute_reply.started": "2022-12-22T09:47:19.350028Z"
    }
   },
   "outputs": [],
   "source": [
    "directorList=[]\n",
    "for i in movies['director']:\n",
    "    if i not in directorList:\n",
    "        directorList.append(i)"
   ]
  },
  {
   "cell_type": "code",
   "execution_count": 35,
   "id": "3e5ba89d",
   "metadata": {
    "execution": {
     "iopub.execute_input": "2022-12-22T09:47:22.304791Z",
     "iopub.status.busy": "2022-12-22T09:47:22.304170Z",
     "iopub.status.idle": "2022-12-22T09:47:22.312539Z",
     "shell.execute_reply": "2022-12-22T09:47:22.311211Z",
     "shell.execute_reply.started": "2022-12-22T09:47:22.304744Z"
    }
   },
   "outputs": [
    {
     "data": {
      "text/plain": [
       "2350"
      ]
     },
     "execution_count": 35,
     "metadata": {},
     "output_type": "execute_result"
    }
   ],
   "source": [
    "len(directorList)"
   ]
  },
  {
   "cell_type": "code",
   "execution_count": 36,
   "id": "ad96ea6b",
   "metadata": {
    "execution": {
     "iopub.execute_input": "2022-12-22T09:47:29.914455Z",
     "iopub.status.busy": "2022-12-22T09:47:29.914082Z",
     "iopub.status.idle": "2022-12-22T09:47:29.920991Z",
     "shell.execute_reply": "2022-12-22T09:47:29.919608Z",
     "shell.execute_reply.started": "2022-12-22T09:47:29.914424Z"
    }
   },
   "outputs": [],
   "source": [
    "def binary(director_list):\n",
    "    binaryList = []  \n",
    "    for direct in directorList:\n",
    "        if direct in director_list:\n",
    "            binaryList.append(1)\n",
    "        else:\n",
    "            binaryList.append(0)\n",
    "    return binaryList"
   ]
  },
  {
   "cell_type": "code",
   "execution_count": 37,
   "id": "6e54a0f2",
   "metadata": {
    "execution": {
     "iopub.execute_input": "2022-12-22T09:47:34.446569Z",
     "iopub.status.busy": "2022-12-22T09:47:34.446156Z",
     "iopub.status.idle": "2022-12-22T09:47:36.025578Z",
     "shell.execute_reply": "2022-12-22T09:47:36.024569Z",
     "shell.execute_reply.started": "2022-12-22T09:47:34.446520Z"
    }
   },
   "outputs": [
    {
     "data": {
      "text/plain": [
       "0    [1, 0, 0, 0, 0, 0, 0, 0, 0, 0, 0, 0, 0, 0, 0, ...\n",
       "1    [0, 1, 0, 0, 0, 0, 0, 0, 0, 0, 0, 0, 0, 0, 0, ...\n",
       "2    [0, 0, 1, 0, 0, 0, 0, 0, 0, 0, 0, 0, 0, 0, 0, ...\n",
       "3    [0, 0, 0, 1, 0, 0, 0, 0, 0, 0, 0, 0, 0, 0, 0, ...\n",
       "4    [0, 0, 0, 0, 1, 0, 0, 0, 0, 0, 0, 0, 0, 0, 0, ...\n",
       "Name: director_bin, dtype: object"
      ]
     },
     "execution_count": 37,
     "metadata": {},
     "output_type": "execute_result"
    }
   ],
   "source": [
    "movies['director_bin'] = movies['director'].apply(lambda x: binary(x))\n",
    "movies['director_bin'].head()"
   ]
  },
  {
   "cell_type": "code",
   "execution_count": 38,
   "id": "43d06a55",
   "metadata": {
    "execution": {
     "iopub.execute_input": "2022-12-22T09:47:39.495217Z",
     "iopub.status.busy": "2022-12-22T09:47:39.494440Z",
     "iopub.status.idle": "2022-12-22T09:47:39.546755Z",
     "shell.execute_reply": "2022-12-22T09:47:39.545618Z",
     "shell.execute_reply.started": "2022-12-22T09:47:39.495178Z"
    }
   },
   "outputs": [
    {
     "data": {
      "text/html": [
       "<div>\n",
       "<style scoped>\n",
       "    .dataframe tbody tr th:only-of-type {\n",
       "        vertical-align: middle;\n",
       "    }\n",
       "\n",
       "    .dataframe tbody tr th {\n",
       "        vertical-align: top;\n",
       "    }\n",
       "\n",
       "    .dataframe thead th {\n",
       "        text-align: right;\n",
       "    }\n",
       "</style>\n",
       "<table border=\"1\" class=\"dataframe\">\n",
       "  <thead>\n",
       "    <tr style=\"text-align: right;\">\n",
       "      <th></th>\n",
       "      <th>id</th>\n",
       "      <th>original_title</th>\n",
       "      <th>genres</th>\n",
       "      <th>cast</th>\n",
       "      <th>vote_average</th>\n",
       "      <th>director</th>\n",
       "      <th>keywords</th>\n",
       "      <th>genres_bin</th>\n",
       "      <th>cast_bin</th>\n",
       "      <th>director_bin</th>\n",
       "    </tr>\n",
       "  </thead>\n",
       "  <tbody>\n",
       "    <tr>\n",
       "      <th>0</th>\n",
       "      <td>19995</td>\n",
       "      <td>Avatar</td>\n",
       "      <td>[Action, Adventure, Fantasy, ScienceFiction]</td>\n",
       "      <td>SamWorthington,SigourneyWeaver,StephenLang,Zoe...</td>\n",
       "      <td>7.2</td>\n",
       "      <td>James Cameron</td>\n",
       "      <td>['culture clash', 'future', 'space war', 'spac...</td>\n",
       "      <td>[1, 1, 1, 1, 0, 0, 0, 0, 0, 0, 0, 0, 0, 0, 0, ...</td>\n",
       "      <td>[1, 1, 1, 1, 1, 1, 1, 1, 1, 1, 1, 1, 1, 1, 1, ...</td>\n",
       "      <td>[1, 0, 0, 0, 0, 0, 0, 0, 0, 0, 0, 0, 0, 0, 0, ...</td>\n",
       "    </tr>\n",
       "    <tr>\n",
       "      <th>1</th>\n",
       "      <td>285</td>\n",
       "      <td>Pirates of the Caribbean: At World's End</td>\n",
       "      <td>[Action, Adventure, Fantasy]</td>\n",
       "      <td>JohnnyDepp,KeiraKnightley,OrlandoBloom,Stellan...</td>\n",
       "      <td>6.9</td>\n",
       "      <td>Gore Verbinski</td>\n",
       "      <td>['ocean', 'drug abuse', 'exotic island', 'east...</td>\n",
       "      <td>[1, 1, 1, 0, 0, 0, 0, 0, 0, 0, 0, 0, 0, 0, 0, ...</td>\n",
       "      <td>[1, 1, 1, 0, 1, 1, 1, 1, 1, 1, 1, 1, 0, 1, 1, ...</td>\n",
       "      <td>[0, 1, 0, 0, 0, 0, 0, 0, 0, 0, 0, 0, 0, 0, 0, ...</td>\n",
       "    </tr>\n",
       "    <tr>\n",
       "      <th>2</th>\n",
       "      <td>206647</td>\n",
       "      <td>Spectre</td>\n",
       "      <td>[Action, Adventure, Crime]</td>\n",
       "      <td>ChristophWaltz,DanielCraig,LéaSeydoux,RalphFie...</td>\n",
       "      <td>6.3</td>\n",
       "      <td>Sam Mendes</td>\n",
       "      <td>['spy', 'based on novel', 'secret agent', 'seq...</td>\n",
       "      <td>[1, 1, 0, 0, 1, 0, 0, 0, 0, 0, 0, 0, 0, 0, 0, ...</td>\n",
       "      <td>[1, 1, 0, 1, 1, 1, 1, 1, 1, 1, 1, 1, 1, 1, 1, ...</td>\n",
       "      <td>[0, 0, 1, 0, 0, 0, 0, 0, 0, 0, 0, 0, 0, 0, 0, ...</td>\n",
       "    </tr>\n",
       "    <tr>\n",
       "      <th>3</th>\n",
       "      <td>49026</td>\n",
       "      <td>The Dark Knight Rises</td>\n",
       "      <td>[Action, Crime, Drama, Thriller]</td>\n",
       "      <td>AnneHathaway,ChristianBale,GaryOldman,MichaelC...</td>\n",
       "      <td>7.6</td>\n",
       "      <td>Christopher Nolan</td>\n",
       "      <td>['dc comics', 'crime fighter', 'terrorist', 's...</td>\n",
       "      <td>[1, 0, 0, 0, 1, 1, 1, 0, 0, 0, 0, 0, 0, 0, 0, ...</td>\n",
       "      <td>[0, 1, 1, 0, 0, 1, 1, 1, 1, 1, 0, 1, 0, 1, 1, ...</td>\n",
       "      <td>[0, 0, 0, 1, 0, 0, 0, 0, 0, 0, 0, 0, 0, 0, 0, ...</td>\n",
       "    </tr>\n",
       "    <tr>\n",
       "      <th>4</th>\n",
       "      <td>49529</td>\n",
       "      <td>John Carter</td>\n",
       "      <td>[Action, Adventure, ScienceFiction]</td>\n",
       "      <td>LynnCollins,SamanthaMorton,TaylorKitsch,Willem...</td>\n",
       "      <td>6.1</td>\n",
       "      <td>Andrew Stanton</td>\n",
       "      <td>['based on novel', 'mars', 'medallion', 'space...</td>\n",
       "      <td>[1, 1, 0, 1, 0, 0, 0, 0, 0, 0, 0, 0, 0, 0, 0, ...</td>\n",
       "      <td>[1, 1, 1, 1, 1, 1, 1, 1, 1, 1, 0, 1, 0, 1, 1, ...</td>\n",
       "      <td>[0, 0, 0, 0, 1, 0, 0, 0, 0, 0, 0, 0, 0, 0, 0, ...</td>\n",
       "    </tr>\n",
       "    <tr>\n",
       "      <th>...</th>\n",
       "      <td>...</td>\n",
       "      <td>...</td>\n",
       "      <td>...</td>\n",
       "      <td>...</td>\n",
       "      <td>...</td>\n",
       "      <td>...</td>\n",
       "      <td>...</td>\n",
       "      <td>...</td>\n",
       "      <td>...</td>\n",
       "      <td>...</td>\n",
       "    </tr>\n",
       "    <tr>\n",
       "      <th>4798</th>\n",
       "      <td>9367</td>\n",
       "      <td>El Mariachi</td>\n",
       "      <td>[Action, Crime, Thriller]</td>\n",
       "      <td>CarlosGallardo,JaimedeHoyos,PeterMarquardt,Rei...</td>\n",
       "      <td>6.6</td>\n",
       "      <td>Robert Rodriguez</td>\n",
       "      <td>['united states–mexico barrier', 'legs', 'arms...</td>\n",
       "      <td>[1, 0, 0, 0, 1, 0, 1, 0, 0, 0, 0, 0, 0, 0, 0, ...</td>\n",
       "      <td>[0, 1, 1, 0, 1, 1, 1, 0, 1, 1, 0, 1, 1, 1, 1, ...</td>\n",
       "      <td>[0, 0, 0, 0, 0, 0, 0, 0, 0, 0, 0, 0, 0, 0, 0, ...</td>\n",
       "    </tr>\n",
       "    <tr>\n",
       "      <th>4799</th>\n",
       "      <td>72766</td>\n",
       "      <td>Newlyweds</td>\n",
       "      <td>[Comedy, Romance]</td>\n",
       "      <td>CaitlinFitzgerald,EdwardBurns,KerryBishé,Marsh...</td>\n",
       "      <td>5.9</td>\n",
       "      <td>Edward Burns</td>\n",
       "      <td>[]</td>\n",
       "      <td>[0, 0, 0, 0, 0, 0, 0, 0, 0, 0, 1, 1, 0, 0, 0, ...</td>\n",
       "      <td>[0, 1, 0, 0, 0, 1, 1, 1, 1, 1, 1, 1, 1, 1, 1, ...</td>\n",
       "      <td>[0, 0, 0, 0, 0, 0, 0, 0, 0, 0, 0, 0, 0, 0, 0, ...</td>\n",
       "    </tr>\n",
       "    <tr>\n",
       "      <th>4800</th>\n",
       "      <td>231617</td>\n",
       "      <td>Signed, Sealed, Delivered</td>\n",
       "      <td>[Comedy, Drama, Romance, TVMovie]</td>\n",
       "      <td>CrystalLowe,EricMabius,GeoffGustafson,KristinB...</td>\n",
       "      <td>7.0</td>\n",
       "      <td>Scott Smith</td>\n",
       "      <td>['date', 'love at first sight', 'narration', '...</td>\n",
       "      <td>[0, 0, 0, 0, 0, 1, 0, 0, 0, 0, 1, 1, 0, 0, 0, ...</td>\n",
       "      <td>[0, 1, 0, 0, 1, 1, 1, 1, 1, 1, 0, 1, 1, 1, 1, ...</td>\n",
       "      <td>[0, 0, 0, 0, 0, 0, 0, 0, 0, 0, 0, 0, 0, 0, 0, ...</td>\n",
       "    </tr>\n",
       "    <tr>\n",
       "      <th>4801</th>\n",
       "      <td>126186</td>\n",
       "      <td>Shanghai Calling</td>\n",
       "      <td>[]</td>\n",
       "      <td>AlanRuck,BillPaxton,DanielHenney,ElizaCoupe</td>\n",
       "      <td>5.7</td>\n",
       "      <td>Daniel Hsia</td>\n",
       "      <td>[]</td>\n",
       "      <td>[0, 0, 0, 0, 0, 0, 0, 0, 0, 0, 0, 0, 0, 0, 0, ...</td>\n",
       "      <td>[0, 1, 0, 0, 1, 0, 1, 0, 1, 1, 0, 1, 1, 1, 1, ...</td>\n",
       "      <td>[0, 0, 0, 0, 0, 0, 0, 0, 0, 0, 0, 0, 0, 0, 0, ...</td>\n",
       "    </tr>\n",
       "    <tr>\n",
       "      <th>4802</th>\n",
       "      <td>25975</td>\n",
       "      <td>My Date with Drew</td>\n",
       "      <td>[Documentary]</td>\n",
       "      <td>BrianHerzlinger,CoreyFeldman,DrewBarrymore,Eri...</td>\n",
       "      <td>6.3</td>\n",
       "      <td>Brian Herzlinger</td>\n",
       "      <td>['obsession', 'camcorder', 'crush', 'dream girl']</td>\n",
       "      <td>[0, 0, 0, 0, 0, 0, 0, 0, 0, 0, 0, 0, 0, 0, 0, ...</td>\n",
       "      <td>[0, 1, 1, 0, 1, 1, 1, 0, 1, 1, 1, 1, 0, 1, 1, ...</td>\n",
       "      <td>[0, 0, 0, 0, 0, 0, 0, 0, 0, 0, 0, 0, 0, 0, 0, ...</td>\n",
       "    </tr>\n",
       "  </tbody>\n",
       "</table>\n",
       "<p>4803 rows × 10 columns</p>\n",
       "</div>"
      ],
      "text/plain": [
       "          id                            original_title  \\\n",
       "0      19995                                    Avatar   \n",
       "1        285  Pirates of the Caribbean: At World's End   \n",
       "2     206647                                   Spectre   \n",
       "3      49026                     The Dark Knight Rises   \n",
       "4      49529                               John Carter   \n",
       "...      ...                                       ...   \n",
       "4798    9367                               El Mariachi   \n",
       "4799   72766                                 Newlyweds   \n",
       "4800  231617                 Signed, Sealed, Delivered   \n",
       "4801  126186                          Shanghai Calling   \n",
       "4802   25975                         My Date with Drew   \n",
       "\n",
       "                                            genres  \\\n",
       "0     [Action, Adventure, Fantasy, ScienceFiction]   \n",
       "1                     [Action, Adventure, Fantasy]   \n",
       "2                       [Action, Adventure, Crime]   \n",
       "3                 [Action, Crime, Drama, Thriller]   \n",
       "4              [Action, Adventure, ScienceFiction]   \n",
       "...                                            ...   \n",
       "4798                     [Action, Crime, Thriller]   \n",
       "4799                             [Comedy, Romance]   \n",
       "4800             [Comedy, Drama, Romance, TVMovie]   \n",
       "4801                                            []   \n",
       "4802                                 [Documentary]   \n",
       "\n",
       "                                                   cast  vote_average  \\\n",
       "0     SamWorthington,SigourneyWeaver,StephenLang,Zoe...           7.2   \n",
       "1     JohnnyDepp,KeiraKnightley,OrlandoBloom,Stellan...           6.9   \n",
       "2     ChristophWaltz,DanielCraig,LéaSeydoux,RalphFie...           6.3   \n",
       "3     AnneHathaway,ChristianBale,GaryOldman,MichaelC...           7.6   \n",
       "4     LynnCollins,SamanthaMorton,TaylorKitsch,Willem...           6.1   \n",
       "...                                                 ...           ...   \n",
       "4798  CarlosGallardo,JaimedeHoyos,PeterMarquardt,Rei...           6.6   \n",
       "4799  CaitlinFitzgerald,EdwardBurns,KerryBishé,Marsh...           5.9   \n",
       "4800  CrystalLowe,EricMabius,GeoffGustafson,KristinB...           7.0   \n",
       "4801        AlanRuck,BillPaxton,DanielHenney,ElizaCoupe           5.7   \n",
       "4802  BrianHerzlinger,CoreyFeldman,DrewBarrymore,Eri...           6.3   \n",
       "\n",
       "               director                                           keywords  \\\n",
       "0         James Cameron  ['culture clash', 'future', 'space war', 'spac...   \n",
       "1        Gore Verbinski  ['ocean', 'drug abuse', 'exotic island', 'east...   \n",
       "2            Sam Mendes  ['spy', 'based on novel', 'secret agent', 'seq...   \n",
       "3     Christopher Nolan  ['dc comics', 'crime fighter', 'terrorist', 's...   \n",
       "4        Andrew Stanton  ['based on novel', 'mars', 'medallion', 'space...   \n",
       "...                 ...                                                ...   \n",
       "4798   Robert Rodriguez  ['united states–mexico barrier', 'legs', 'arms...   \n",
       "4799       Edward Burns                                                 []   \n",
       "4800        Scott Smith  ['date', 'love at first sight', 'narration', '...   \n",
       "4801        Daniel Hsia                                                 []   \n",
       "4802   Brian Herzlinger  ['obsession', 'camcorder', 'crush', 'dream girl']   \n",
       "\n",
       "                                             genres_bin  \\\n",
       "0     [1, 1, 1, 1, 0, 0, 0, 0, 0, 0, 0, 0, 0, 0, 0, ...   \n",
       "1     [1, 1, 1, 0, 0, 0, 0, 0, 0, 0, 0, 0, 0, 0, 0, ...   \n",
       "2     [1, 1, 0, 0, 1, 0, 0, 0, 0, 0, 0, 0, 0, 0, 0, ...   \n",
       "3     [1, 0, 0, 0, 1, 1, 1, 0, 0, 0, 0, 0, 0, 0, 0, ...   \n",
       "4     [1, 1, 0, 1, 0, 0, 0, 0, 0, 0, 0, 0, 0, 0, 0, ...   \n",
       "...                                                 ...   \n",
       "4798  [1, 0, 0, 0, 1, 0, 1, 0, 0, 0, 0, 0, 0, 0, 0, ...   \n",
       "4799  [0, 0, 0, 0, 0, 0, 0, 0, 0, 0, 1, 1, 0, 0, 0, ...   \n",
       "4800  [0, 0, 0, 0, 0, 1, 0, 0, 0, 0, 1, 1, 0, 0, 0, ...   \n",
       "4801  [0, 0, 0, 0, 0, 0, 0, 0, 0, 0, 0, 0, 0, 0, 0, ...   \n",
       "4802  [0, 0, 0, 0, 0, 0, 0, 0, 0, 0, 0, 0, 0, 0, 0, ...   \n",
       "\n",
       "                                               cast_bin  \\\n",
       "0     [1, 1, 1, 1, 1, 1, 1, 1, 1, 1, 1, 1, 1, 1, 1, ...   \n",
       "1     [1, 1, 1, 0, 1, 1, 1, 1, 1, 1, 1, 1, 0, 1, 1, ...   \n",
       "2     [1, 1, 0, 1, 1, 1, 1, 1, 1, 1, 1, 1, 1, 1, 1, ...   \n",
       "3     [0, 1, 1, 0, 0, 1, 1, 1, 1, 1, 0, 1, 0, 1, 1, ...   \n",
       "4     [1, 1, 1, 1, 1, 1, 1, 1, 1, 1, 0, 1, 0, 1, 1, ...   \n",
       "...                                                 ...   \n",
       "4798  [0, 1, 1, 0, 1, 1, 1, 0, 1, 1, 0, 1, 1, 1, 1, ...   \n",
       "4799  [0, 1, 0, 0, 0, 1, 1, 1, 1, 1, 1, 1, 1, 1, 1, ...   \n",
       "4800  [0, 1, 0, 0, 1, 1, 1, 1, 1, 1, 0, 1, 1, 1, 1, ...   \n",
       "4801  [0, 1, 0, 0, 1, 0, 1, 0, 1, 1, 0, 1, 1, 1, 1, ...   \n",
       "4802  [0, 1, 1, 0, 1, 1, 1, 0, 1, 1, 1, 1, 0, 1, 1, ...   \n",
       "\n",
       "                                           director_bin  \n",
       "0     [1, 0, 0, 0, 0, 0, 0, 0, 0, 0, 0, 0, 0, 0, 0, ...  \n",
       "1     [0, 1, 0, 0, 0, 0, 0, 0, 0, 0, 0, 0, 0, 0, 0, ...  \n",
       "2     [0, 0, 1, 0, 0, 0, 0, 0, 0, 0, 0, 0, 0, 0, 0, ...  \n",
       "3     [0, 0, 0, 1, 0, 0, 0, 0, 0, 0, 0, 0, 0, 0, 0, ...  \n",
       "4     [0, 0, 0, 0, 1, 0, 0, 0, 0, 0, 0, 0, 0, 0, 0, ...  \n",
       "...                                                 ...  \n",
       "4798  [0, 0, 0, 0, 0, 0, 0, 0, 0, 0, 0, 0, 0, 0, 0, ...  \n",
       "4799  [0, 0, 0, 0, 0, 0, 0, 0, 0, 0, 0, 0, 0, 0, 0, ...  \n",
       "4800  [0, 0, 0, 0, 0, 0, 0, 0, 0, 0, 0, 0, 0, 0, 0, ...  \n",
       "4801  [0, 0, 0, 0, 0, 0, 0, 0, 0, 0, 0, 0, 0, 0, 0, ...  \n",
       "4802  [0, 0, 0, 0, 0, 0, 0, 0, 0, 0, 0, 0, 0, 0, 0, ...  \n",
       "\n",
       "[4803 rows x 10 columns]"
      ]
     },
     "execution_count": 38,
     "metadata": {},
     "output_type": "execute_result"
    }
   ],
   "source": [
    "movies"
   ]
  },
  {
   "cell_type": "code",
   "execution_count": 39,
   "id": "abfc3715",
   "metadata": {
    "execution": {
     "iopub.execute_input": "2022-12-22T09:47:44.795805Z",
     "iopub.status.busy": "2022-12-22T09:47:44.794704Z",
     "iopub.status.idle": "2022-12-22T09:47:45.173110Z",
     "shell.execute_reply": "2022-12-22T09:47:45.171960Z",
     "shell.execute_reply.started": "2022-12-22T09:47:44.795747Z"
    }
   },
   "outputs": [],
   "source": [
    "words_list = []\n",
    "for index, row in movies.iterrows():\n",
    "    genres = row[\"keywords\"]\n",
    "    for genre in genres:\n",
    "        if genre not in words_list:\n",
    "            words_list.append(genre)"
   ]
  },
  {
   "cell_type": "code",
   "execution_count": 40,
   "id": "08b8b08f",
   "metadata": {
    "execution": {
     "iopub.execute_input": "2022-12-22T09:47:56.138177Z",
     "iopub.status.busy": "2022-12-22T09:47:56.137439Z",
     "iopub.status.idle": "2022-12-22T09:47:56.145371Z",
     "shell.execute_reply": "2022-12-22T09:47:56.144123Z",
     "shell.execute_reply.started": "2022-12-22T09:47:56.138137Z"
    }
   },
   "outputs": [
    {
     "data": {
      "text/plain": [
       "79"
      ]
     },
     "execution_count": 40,
     "metadata": {},
     "output_type": "execute_result"
    }
   ],
   "source": [
    "len(words_list)"
   ]
  },
  {
   "cell_type": "code",
   "execution_count": 41,
   "id": "644c40c3",
   "metadata": {
    "execution": {
     "iopub.execute_input": "2022-12-22T09:47:59.715508Z",
     "iopub.status.busy": "2022-12-22T09:47:59.714531Z",
     "iopub.status.idle": "2022-12-22T09:47:59.721811Z",
     "shell.execute_reply": "2022-12-22T09:47:59.720631Z",
     "shell.execute_reply.started": "2022-12-22T09:47:59.715466Z"
    }
   },
   "outputs": [],
   "source": [
    "def binary(words):\n",
    "    binaryList = []\n",
    "    for genre in words_list:\n",
    "        if genre in words:\n",
    "            binaryList.append(1)\n",
    "        else:\n",
    "            binaryList.append(0)\n",
    "    return binaryList"
   ]
  },
  {
   "cell_type": "code",
   "execution_count": 42,
   "id": "40da6a6e",
   "metadata": {
    "execution": {
     "iopub.execute_input": "2022-12-22T09:48:04.533861Z",
     "iopub.status.busy": "2022-12-22T09:48:04.532456Z",
     "iopub.status.idle": "2022-12-22T09:48:04.651678Z",
     "shell.execute_reply": "2022-12-22T09:48:04.650614Z",
     "shell.execute_reply.started": "2022-12-22T09:48:04.533816Z"
    }
   },
   "outputs": [],
   "source": [
    "movies['words_bin'] = movies['keywords'].apply(lambda x: binary(x))\n",
    "movies = movies[(movies['vote_average']!=0)] #removing the movies with 0 score and without drector names \n",
    "movies = movies[movies['director']!='']"
   ]
  },
  {
   "cell_type": "markdown",
   "id": "39a37e3d",
   "metadata": {},
   "source": [
    "### Mencari jarak setiap film untuk KNN algorithm"
   ]
  },
  {
   "cell_type": "code",
   "execution_count": 43,
   "id": "90f3ecbd",
   "metadata": {
    "execution": {
     "iopub.execute_input": "2022-12-22T09:48:13.920074Z",
     "iopub.status.busy": "2022-12-22T09:48:13.919355Z",
     "iopub.status.idle": "2022-12-22T09:48:13.925605Z",
     "shell.execute_reply": "2022-12-22T09:48:13.924416Z",
     "shell.execute_reply.started": "2022-12-22T09:48:13.920036Z"
    }
   },
   "outputs": [],
   "source": [
    "import numpy as np\n",
    "def cityblock_distance(A, B):\n",
    "    result = np.sum([abs(a - b) for (a, b) in zip(A, B)])\n",
    "    return result"
   ]
  },
  {
   "cell_type": "code",
   "execution_count": 44,
   "id": "fea7f50f",
   "metadata": {
    "execution": {
     "iopub.execute_input": "2022-12-22T09:48:17.427061Z",
     "iopub.status.busy": "2022-12-22T09:48:17.426681Z",
     "iopub.status.idle": "2022-12-22T09:48:17.434975Z",
     "shell.execute_reply": "2022-12-22T09:48:17.434001Z",
     "shell.execute_reply.started": "2022-12-22T09:48:17.427031Z"
    }
   },
   "outputs": [],
   "source": [
    "from scipy import spatial\n",
    "def Similarity_Cosine(movieId1, movieId2):\n",
    "    a = movies.iloc[movieId1]\n",
    "    b = movies.iloc[movieId2]\n",
    "    \n",
    "    genresA = a['genres_bin']\n",
    "    genresB = b['genres_bin']\n",
    "    \n",
    "    genreDistance = spatial.distance.cosine(genresA, genresB)\n",
    "    \n",
    "    scoreA = a['cast_bin']\n",
    "    scoreB = b['cast_bin']\n",
    "    scoreDistance = spatial.distance.cosine(scoreA, scoreB)\n",
    "    \n",
    "    directA = a['director_bin']\n",
    "    directB = b['director_bin']\n",
    "    directDistance = spatial.distance.cosine(directA, directB)\n",
    "    \n",
    "    wordsA = a['words_bin']\n",
    "    wordsB = b['words_bin']\n",
    "    wordsDistance = spatial.distance.cosine(wordsA,wordsB)\n",
    "    return genreDistance + directDistance + scoreDistance + wordsDistance"
   ]
  },
  {
   "cell_type": "code",
   "execution_count": 45,
   "id": "7fc42653",
   "metadata": {
    "execution": {
     "iopub.execute_input": "2022-12-22T09:48:23.989525Z",
     "iopub.status.busy": "2022-12-22T09:48:23.988608Z",
     "iopub.status.idle": "2022-12-22T09:48:24.004776Z",
     "shell.execute_reply": "2022-12-22T09:48:24.003478Z",
     "shell.execute_reply.started": "2022-12-22T09:48:23.989478Z"
    }
   },
   "outputs": [],
   "source": [
    "from scipy.spatial.distance import cdist\n",
    "def Similarity_Manhattan(movieId1, movieId2):\n",
    "    a = movies.iloc[movieId1]\n",
    "    b = movies.iloc[movieId2]\n",
    "    \n",
    "    genresA = a['genres_bin']\n",
    "    genresB = b['genres_bin']\n",
    "    \n",
    "    genreDistance = cityblock_distance(genresA, genresB)\n",
    "    \n",
    "    scoreA = a['cast_bin']\n",
    "    scoreB = b['cast_bin']\n",
    "    scoreDistance = cityblock_distance(scoreA, scoreB)\n",
    "    \n",
    "    directA = a['director_bin']\n",
    "    directB = b['director_bin']\n",
    "    directDistance = cityblock_distance(directA, directB)\n",
    "    \n",
    "    wordsA = a['words_bin']\n",
    "    wordsB = b['words_bin']\n",
    "    wordsDistance = cityblock_distance(wordsA,wordsB)\n",
    "    return genreDistance + directDistance + scoreDistance + wordsDistance"
   ]
  },
  {
   "cell_type": "code",
   "execution_count": 46,
   "id": "6356f0eb",
   "metadata": {
    "execution": {
     "iopub.execute_input": "2022-12-22T09:49:09.439358Z",
     "iopub.status.busy": "2022-12-22T09:49:09.438982Z",
     "iopub.status.idle": "2022-12-22T09:49:09.446442Z",
     "shell.execute_reply": "2022-12-22T09:49:09.445345Z",
     "shell.execute_reply.started": "2022-12-22T09:49:09.439324Z"
    }
   },
   "outputs": [],
   "source": [
    "from scipy.spatial.distance import euclidean\n",
    "def Similarity_Euclidean(movieId1, movieId2):\n",
    "    a = movies.iloc[movieId1]\n",
    "    b = movies.iloc[movieId2]\n",
    "    \n",
    "    genresA = a['genres_bin']\n",
    "    genresB = b['genres_bin']\n",
    "    \n",
    "    genreDistance = euclidean(genresA, genresB)\n",
    "\n",
    "    scoreA = a['cast_bin']\n",
    "    scoreB = b['cast_bin']\n",
    "    scoreDistance = euclidean(scoreA, scoreB)\n",
    "    \n",
    "    directA = a['director_bin']\n",
    "    directB = b['director_bin']\n",
    "    directDistance = euclidean(directA, directB)\n",
    "    \n",
    "    wordsA = a['words_bin']\n",
    "    wordsB = b['words_bin']\n",
    "    wordsDistance = euclidean(wordsA,wordsB)\n",
    "    return genreDistance + directDistance + scoreDistance + wordsDistance"
   ]
  },
  {
   "cell_type": "code",
   "execution_count": 47,
   "id": "57b66e42",
   "metadata": {
    "execution": {
     "iopub.execute_input": "2022-12-22T09:49:13.887392Z",
     "iopub.status.busy": "2022-12-22T09:49:13.886384Z",
     "iopub.status.idle": "2022-12-22T09:49:13.896941Z",
     "shell.execute_reply": "2022-12-22T09:49:13.895697Z",
     "shell.execute_reply.started": "2022-12-22T09:49:13.887351Z"
    }
   },
   "outputs": [],
   "source": [
    "from scipy.spatial import distance\n",
    "def Similarity_Hamming(movieId1, movieId2):\n",
    "    a = movies.iloc[movieId1]\n",
    "    b = movies.iloc[movieId2]\n",
    "    \n",
    "    genresA = a['genres_bin']\n",
    "    genresB = b['genres_bin']\n",
    "    \n",
    "    genreDistance = distance.hamming(genresA, genresB)\n",
    "\n",
    "    scoreA = a['cast_bin']\n",
    "    scoreB = b['cast_bin']\n",
    "    scoreDistance = distance.hamming(scoreA, scoreB)\n",
    "    \n",
    "    directA = a['director_bin']\n",
    "    directB = b['director_bin']\n",
    "    directDistance = distance.hamming(directA, directB)\n",
    "    \n",
    "    wordsA = a['words_bin']\n",
    "    wordsB = b['words_bin']\n",
    "    wordsDistance = distance.hamming(wordsA,wordsB)\n",
    "    return genreDistance + directDistance + scoreDistance + wordsDistance"
   ]
  },
  {
   "cell_type": "code",
   "execution_count": 48,
   "id": "796bb8f2",
   "metadata": {
    "execution": {
     "iopub.execute_input": "2022-12-22T09:49:19.920681Z",
     "iopub.status.busy": "2022-12-22T09:49:19.919544Z",
     "iopub.status.idle": "2022-12-22T09:49:19.933411Z",
     "shell.execute_reply": "2022-12-22T09:49:19.932148Z",
     "shell.execute_reply.started": "2022-12-22T09:49:19.920611Z"
    }
   },
   "outputs": [
    {
     "name": "stdout",
     "output_type": "stream",
     "text": [
      "id                                                            49026\n",
      "original_title                                The Dark Knight Rises\n",
      "genres                             [Action, Crime, Drama, Thriller]\n",
      "cast              AnneHathaway,ChristianBale,GaryOldman,MichaelC...\n",
      "vote_average                                                    7.6\n",
      "director                                          Christopher Nolan\n",
      "keywords          ['dc comics', 'crime fighter', 'terrorist', 's...\n",
      "genres_bin        [1, 0, 0, 0, 1, 1, 1, 0, 0, 0, 0, 0, 0, 0, 0, ...\n",
      "cast_bin          [0, 1, 1, 0, 0, 1, 1, 1, 1, 1, 0, 1, 0, 1, 1, ...\n",
      "director_bin      [0, 0, 0, 1, 0, 0, 0, 0, 0, 0, 0, 0, 0, 0, 0, ...\n",
      "words_bin         [1, 1, 1, 1, 1, 1, 1, 1, 1, 1, 1, 1, 1, 1, 1, ...\n",
      "Name: 3, dtype: object\n",
      "id                                                            82702\n",
      "original_title                           How to Train Your Dragon 2\n",
      "genres            [Action, Adventure, Animation, Comedy, Family,...\n",
      "cast                 GerardButler,JayBaruchel,JonahHill,KristenWiig\n",
      "vote_average                                                    7.6\n",
      "director                                               Dean DeBlois\n",
      "keywords          ['father son relationship', 'wife husband rela...\n",
      "genres_bin        [1, 1, 1, 0, 0, 0, 0, 1, 1, 0, 1, 0, 0, 0, 0, ...\n",
      "cast_bin          [0, 1, 0, 1, 1, 1, 1, 1, 1, 1, 1, 1, 1, 1, 1, ...\n",
      "director_bin      [0, 0, 0, 0, 0, 0, 0, 0, 0, 0, 0, 0, 0, 0, 0, ...\n",
      "words_bin         [1, 1, 1, 1, 1, 1, 1, 1, 1, 1, 1, 1, 1, 1, 1, ...\n",
      "Name: 160, dtype: object\n"
     ]
    }
   ],
   "source": [
    "print(movies.iloc[3])\n",
    "print(movies.iloc[160])"
   ]
  },
  {
   "cell_type": "code",
   "execution_count": 50,
   "id": "2426ad1e",
   "metadata": {
    "execution": {
     "iopub.execute_input": "2022-12-22T09:49:29.607669Z",
     "iopub.status.busy": "2022-12-22T09:49:29.607229Z",
     "iopub.status.idle": "2022-12-22T09:49:29.617042Z",
     "shell.execute_reply": "2022-12-22T09:49:29.615633Z",
     "shell.execute_reply.started": "2022-12-22T09:49:29.607633Z"
    }
   },
   "outputs": [
    {
     "data": {
      "text/plain": [
       "9.73668665136369"
      ]
     },
     "execution_count": 50,
     "metadata": {},
     "output_type": "execute_result"
    }
   ],
   "source": [
    "Similarity_Euclidean(90,10)"
   ]
  },
  {
   "cell_type": "code",
   "execution_count": 51,
   "id": "ac05b1a3",
   "metadata": {
    "execution": {
     "iopub.execute_input": "2022-12-22T09:49:31.934596Z",
     "iopub.status.busy": "2022-12-22T09:49:31.934183Z",
     "iopub.status.idle": "2022-12-22T09:49:31.944990Z",
     "shell.execute_reply": "2022-12-22T09:49:31.942506Z",
     "shell.execute_reply.started": "2022-12-22T09:49:31.934536Z"
    }
   },
   "outputs": [
    {
     "data": {
      "text/plain": [
       "1.4317505131109727"
      ]
     },
     "execution_count": 51,
     "metadata": {},
     "output_type": "execute_result"
    }
   ],
   "source": [
    "Similarity_Cosine(90,10)"
   ]
  },
  {
   "cell_type": "code",
   "execution_count": 52,
   "id": "2c4e3843",
   "metadata": {
    "execution": {
     "iopub.execute_input": "2022-12-22T09:49:35.026516Z",
     "iopub.status.busy": "2022-12-22T09:49:35.026149Z",
     "iopub.status.idle": "2022-12-22T09:49:35.035175Z",
     "shell.execute_reply": "2022-12-22T09:49:35.034017Z",
     "shell.execute_reply.started": "2022-12-22T09:49:35.026486Z"
    }
   },
   "outputs": [
    {
     "data": {
      "text/plain": [
       "0.3863242404422043"
      ]
     },
     "execution_count": 52,
     "metadata": {},
     "output_type": "execute_result"
    }
   ],
   "source": [
    "Similarity_Hamming(90,10)"
   ]
  },
  {
   "cell_type": "code",
   "execution_count": 53,
   "id": "2358d67d",
   "metadata": {
    "execution": {
     "iopub.execute_input": "2022-12-22T09:49:37.832080Z",
     "iopub.status.busy": "2022-12-22T09:49:37.831697Z",
     "iopub.status.idle": "2022-12-22T09:49:37.840471Z",
     "shell.execute_reply": "2022-12-22T09:49:37.839430Z",
     "shell.execute_reply.started": "2022-12-22T09:49:37.832048Z"
    }
   },
   "outputs": [
    {
     "data": {
      "text/plain": [
       "27"
      ]
     },
     "execution_count": 53,
     "metadata": {},
     "output_type": "execute_result"
    }
   ],
   "source": [
    "Similarity_Manhattan(90,10)"
   ]
  },
  {
   "cell_type": "code",
   "execution_count": 54,
   "id": "e4312f40",
   "metadata": {
    "execution": {
     "iopub.execute_input": "2022-12-22T09:49:40.857530Z",
     "iopub.status.busy": "2022-12-22T09:49:40.856912Z",
     "iopub.status.idle": "2022-12-22T09:49:40.926769Z",
     "shell.execute_reply": "2022-12-22T09:49:40.925629Z",
     "shell.execute_reply.started": "2022-12-22T09:49:40.857451Z"
    }
   },
   "outputs": [
    {
     "data": {
      "text/html": [
       "<div>\n",
       "<style scoped>\n",
       "    .dataframe tbody tr th:only-of-type {\n",
       "        vertical-align: middle;\n",
       "    }\n",
       "\n",
       "    .dataframe tbody tr th {\n",
       "        vertical-align: top;\n",
       "    }\n",
       "\n",
       "    .dataframe thead th {\n",
       "        text-align: right;\n",
       "    }\n",
       "</style>\n",
       "<table border=\"1\" class=\"dataframe\">\n",
       "  <thead>\n",
       "    <tr style=\"text-align: right;\">\n",
       "      <th></th>\n",
       "      <th>original_title</th>\n",
       "      <th>genres</th>\n",
       "      <th>vote_average</th>\n",
       "      <th>genres_bin</th>\n",
       "      <th>cast_bin</th>\n",
       "      <th>new_id</th>\n",
       "      <th>director</th>\n",
       "      <th>director_bin</th>\n",
       "      <th>words_bin</th>\n",
       "    </tr>\n",
       "  </thead>\n",
       "  <tbody>\n",
       "    <tr>\n",
       "      <th>0</th>\n",
       "      <td>Avatar</td>\n",
       "      <td>[Action, Adventure, Fantasy, ScienceFiction]</td>\n",
       "      <td>7.2</td>\n",
       "      <td>[1, 1, 1, 1, 0, 0, 0, 0, 0, 0, 0, 0, 0, 0, 0, ...</td>\n",
       "      <td>[1, 1, 1, 1, 1, 1, 1, 1, 1, 1, 1, 1, 1, 1, 1, ...</td>\n",
       "      <td>0</td>\n",
       "      <td>James Cameron</td>\n",
       "      <td>[1, 0, 0, 0, 0, 0, 0, 0, 0, 0, 0, 0, 0, 0, 0, ...</td>\n",
       "      <td>[1, 1, 1, 1, 1, 1, 1, 1, 1, 1, 1, 1, 1, 1, 1, ...</td>\n",
       "    </tr>\n",
       "    <tr>\n",
       "      <th>1</th>\n",
       "      <td>Pirates of the Caribbean: At World's End</td>\n",
       "      <td>[Action, Adventure, Fantasy]</td>\n",
       "      <td>6.9</td>\n",
       "      <td>[1, 1, 1, 0, 0, 0, 0, 0, 0, 0, 0, 0, 0, 0, 0, ...</td>\n",
       "      <td>[1, 1, 1, 0, 1, 1, 1, 1, 1, 1, 1, 1, 0, 1, 1, ...</td>\n",
       "      <td>1</td>\n",
       "      <td>Gore Verbinski</td>\n",
       "      <td>[0, 1, 0, 0, 0, 0, 0, 0, 0, 0, 0, 0, 0, 0, 0, ...</td>\n",
       "      <td>[1, 1, 1, 1, 1, 1, 1, 1, 1, 1, 1, 1, 1, 1, 1, ...</td>\n",
       "    </tr>\n",
       "    <tr>\n",
       "      <th>2</th>\n",
       "      <td>Spectre</td>\n",
       "      <td>[Action, Adventure, Crime]</td>\n",
       "      <td>6.3</td>\n",
       "      <td>[1, 1, 0, 0, 1, 0, 0, 0, 0, 0, 0, 0, 0, 0, 0, ...</td>\n",
       "      <td>[1, 1, 0, 1, 1, 1, 1, 1, 1, 1, 1, 1, 1, 1, 1, ...</td>\n",
       "      <td>2</td>\n",
       "      <td>Sam Mendes</td>\n",
       "      <td>[0, 0, 1, 0, 0, 0, 0, 0, 0, 0, 0, 0, 0, 0, 0, ...</td>\n",
       "      <td>[1, 1, 1, 1, 1, 1, 1, 1, 1, 1, 1, 1, 1, 0, 1, ...</td>\n",
       "    </tr>\n",
       "    <tr>\n",
       "      <th>3</th>\n",
       "      <td>The Dark Knight Rises</td>\n",
       "      <td>[Action, Crime, Drama, Thriller]</td>\n",
       "      <td>7.6</td>\n",
       "      <td>[1, 0, 0, 0, 1, 1, 1, 0, 0, 0, 0, 0, 0, 0, 0, ...</td>\n",
       "      <td>[0, 1, 1, 0, 0, 1, 1, 1, 1, 1, 0, 1, 0, 1, 1, ...</td>\n",
       "      <td>3</td>\n",
       "      <td>Christopher Nolan</td>\n",
       "      <td>[0, 0, 0, 1, 0, 0, 0, 0, 0, 0, 0, 0, 0, 0, 0, ...</td>\n",
       "      <td>[1, 1, 1, 1, 1, 1, 1, 1, 1, 1, 1, 1, 1, 1, 1, ...</td>\n",
       "    </tr>\n",
       "    <tr>\n",
       "      <th>4</th>\n",
       "      <td>John Carter</td>\n",
       "      <td>[Action, Adventure, ScienceFiction]</td>\n",
       "      <td>6.1</td>\n",
       "      <td>[1, 1, 0, 1, 0, 0, 0, 0, 0, 0, 0, 0, 0, 0, 0, ...</td>\n",
       "      <td>[1, 1, 1, 1, 1, 1, 1, 1, 1, 1, 0, 1, 0, 1, 1, ...</td>\n",
       "      <td>4</td>\n",
       "      <td>Andrew Stanton</td>\n",
       "      <td>[0, 0, 0, 0, 1, 0, 0, 0, 0, 0, 0, 0, 0, 0, 0, ...</td>\n",
       "      <td>[1, 1, 1, 1, 1, 1, 1, 1, 1, 1, 1, 1, 1, 0, 1, ...</td>\n",
       "    </tr>\n",
       "  </tbody>\n",
       "</table>\n",
       "</div>"
      ],
      "text/plain": [
       "                             original_title  \\\n",
       "0                                    Avatar   \n",
       "1  Pirates of the Caribbean: At World's End   \n",
       "2                                   Spectre   \n",
       "3                     The Dark Knight Rises   \n",
       "4                               John Carter   \n",
       "\n",
       "                                         genres  vote_average  \\\n",
       "0  [Action, Adventure, Fantasy, ScienceFiction]           7.2   \n",
       "1                  [Action, Adventure, Fantasy]           6.9   \n",
       "2                    [Action, Adventure, Crime]           6.3   \n",
       "3              [Action, Crime, Drama, Thriller]           7.6   \n",
       "4           [Action, Adventure, ScienceFiction]           6.1   \n",
       "\n",
       "                                          genres_bin  \\\n",
       "0  [1, 1, 1, 1, 0, 0, 0, 0, 0, 0, 0, 0, 0, 0, 0, ...   \n",
       "1  [1, 1, 1, 0, 0, 0, 0, 0, 0, 0, 0, 0, 0, 0, 0, ...   \n",
       "2  [1, 1, 0, 0, 1, 0, 0, 0, 0, 0, 0, 0, 0, 0, 0, ...   \n",
       "3  [1, 0, 0, 0, 1, 1, 1, 0, 0, 0, 0, 0, 0, 0, 0, ...   \n",
       "4  [1, 1, 0, 1, 0, 0, 0, 0, 0, 0, 0, 0, 0, 0, 0, ...   \n",
       "\n",
       "                                            cast_bin  new_id  \\\n",
       "0  [1, 1, 1, 1, 1, 1, 1, 1, 1, 1, 1, 1, 1, 1, 1, ...       0   \n",
       "1  [1, 1, 1, 0, 1, 1, 1, 1, 1, 1, 1, 1, 0, 1, 1, ...       1   \n",
       "2  [1, 1, 0, 1, 1, 1, 1, 1, 1, 1, 1, 1, 1, 1, 1, ...       2   \n",
       "3  [0, 1, 1, 0, 0, 1, 1, 1, 1, 1, 0, 1, 0, 1, 1, ...       3   \n",
       "4  [1, 1, 1, 1, 1, 1, 1, 1, 1, 1, 0, 1, 0, 1, 1, ...       4   \n",
       "\n",
       "            director                                       director_bin  \\\n",
       "0      James Cameron  [1, 0, 0, 0, 0, 0, 0, 0, 0, 0, 0, 0, 0, 0, 0, ...   \n",
       "1     Gore Verbinski  [0, 1, 0, 0, 0, 0, 0, 0, 0, 0, 0, 0, 0, 0, 0, ...   \n",
       "2         Sam Mendes  [0, 0, 1, 0, 0, 0, 0, 0, 0, 0, 0, 0, 0, 0, 0, ...   \n",
       "3  Christopher Nolan  [0, 0, 0, 1, 0, 0, 0, 0, 0, 0, 0, 0, 0, 0, 0, ...   \n",
       "4     Andrew Stanton  [0, 0, 0, 0, 1, 0, 0, 0, 0, 0, 0, 0, 0, 0, 0, ...   \n",
       "\n",
       "                                           words_bin  \n",
       "0  [1, 1, 1, 1, 1, 1, 1, 1, 1, 1, 1, 1, 1, 1, 1, ...  \n",
       "1  [1, 1, 1, 1, 1, 1, 1, 1, 1, 1, 1, 1, 1, 1, 1, ...  \n",
       "2  [1, 1, 1, 1, 1, 1, 1, 1, 1, 1, 1, 1, 1, 0, 1, ...  \n",
       "3  [1, 1, 1, 1, 1, 1, 1, 1, 1, 1, 1, 1, 1, 1, 1, ...  \n",
       "4  [1, 1, 1, 1, 1, 1, 1, 1, 1, 1, 1, 1, 1, 0, 1, ...  "
      ]
     },
     "execution_count": 54,
     "metadata": {},
     "output_type": "execute_result"
    }
   ],
   "source": [
    "new_id = list(range(0,movies.shape[0]))\n",
    "movies['new_id']=new_id\n",
    "movies=movies[['original_title','genres','vote_average','genres_bin','cast_bin','new_id','director','director_bin','words_bin',]]\n",
    "movies.head()"
   ]
  },
  {
   "cell_type": "code",
   "execution_count": 55,
   "id": "894cf6aa",
   "metadata": {
    "execution": {
     "iopub.execute_input": "2022-12-22T09:49:43.969462Z",
     "iopub.status.busy": "2022-12-22T09:49:43.968425Z",
     "iopub.status.idle": "2022-12-22T09:49:43.976834Z",
     "shell.execute_reply": "2022-12-22T09:49:43.975491Z",
     "shell.execute_reply.started": "2022-12-22T09:49:43.969423Z"
    }
   },
   "outputs": [
    {
     "data": {
      "text/plain": [
       "4723"
      ]
     },
     "execution_count": 55,
     "metadata": {},
     "output_type": "execute_result"
    }
   ],
   "source": [
    "len(movies['vote_average'])"
   ]
  },
  {
   "cell_type": "code",
   "execution_count": 56,
   "id": "d9d8e159",
   "metadata": {
    "execution": {
     "iopub.execute_input": "2022-12-22T09:49:46.316765Z",
     "iopub.status.busy": "2022-12-22T09:49:46.316380Z",
     "iopub.status.idle": "2022-12-22T09:49:46.324181Z",
     "shell.execute_reply": "2022-12-22T09:49:46.322816Z",
     "shell.execute_reply.started": "2022-12-22T09:49:46.316730Z"
    }
   },
   "outputs": [
    {
     "data": {
      "text/plain": [
       "5.5"
      ]
     },
     "execution_count": 56,
     "metadata": {},
     "output_type": "execute_result"
    }
   ],
   "source": [
    "movies['vote_average'][3682]"
   ]
  },
  {
   "cell_type": "markdown",
   "id": "f7d55716",
   "metadata": {},
   "source": [
    "### Membuat prediksi rating dan rekomendasi film dengan algoritma KNN"
   ]
  },
  {
   "cell_type": "code",
   "execution_count": 57,
   "id": "03358af9",
   "metadata": {
    "execution": {
     "iopub.execute_input": "2022-12-22T09:49:48.818212Z",
     "iopub.status.busy": "2022-12-22T09:49:48.817471Z",
     "iopub.status.idle": "2022-12-22T09:49:48.828200Z",
     "shell.execute_reply": "2022-12-22T09:49:48.826790Z",
     "shell.execute_reply.started": "2022-12-22T09:49:48.818175Z"
    }
   },
   "outputs": [],
   "source": [
    "import operator\n",
    "def predict_score(iloc,Similarity):\n",
    "    name = movies['original_title'][iloc]\n",
    "    new_movie = movies[movies['original_title'].str.contains(name)].iloc[0].to_frame().T\n",
    "    def getNeighbors(baseMovie, K):\n",
    "        distances = []\n",
    "        for index, movie in movies.iterrows():\n",
    "            if movie['new_id'] != baseMovie['new_id'].values[0]:\n",
    "                dist = Similarity(baseMovie['new_id'].values[0], movie['new_id'])\n",
    "                distances.append((movie['new_id'], dist))\n",
    "        distances.sort(key=operator.itemgetter(1))\n",
    "        neighbors = []\n",
    "        for x in range(K):\n",
    "            neighbors.append(distances[x])\n",
    "        return neighbors\n",
    "    K = 10\n",
    "    avgRating = 0\n",
    "    neighbors = getNeighbors(new_movie, K)\n",
    "    for neighbor in neighbors:\n",
    "        avgRating = avgRating+movies.iloc[neighbor[0]][2]  \n",
    "    avgRating = avgRating/K\n",
    "    return avgRating, new_movie['vote_average']"
   ]
  },
  {
   "cell_type": "code",
   "execution_count": 132,
   "id": "c2beed66",
   "metadata": {
    "execution": {
     "iopub.execute_input": "2022-12-22T11:07:42.592874Z",
     "iopub.status.busy": "2022-12-22T11:07:42.592453Z",
     "iopub.status.idle": "2022-12-22T11:07:42.599133Z",
     "shell.execute_reply": "2022-12-22T11:07:42.597925Z",
     "shell.execute_reply.started": "2022-12-22T11:07:42.592841Z"
    }
   },
   "outputs": [],
   "source": [
    "list_test = np.random.random_integers(0,len(movies['original_title']),500)"
   ]
  },
  {
   "cell_type": "code",
   "execution_count": 133,
   "id": "9cb51f84",
   "metadata": {
    "execution": {
     "iopub.execute_input": "2022-12-22T11:07:46.853842Z",
     "iopub.status.busy": "2022-12-22T11:07:46.852618Z",
     "iopub.status.idle": "2022-12-22T11:07:46.859497Z",
     "shell.execute_reply": "2022-12-22T11:07:46.858348Z",
     "shell.execute_reply.started": "2022-12-22T11:07:46.853793Z"
    },
    "scrolled": true
   },
   "outputs": [],
   "source": [
    "test = []\n",
    "for i in list_test:\n",
    "    test.append(i)"
   ]
  },
  {
   "cell_type": "code",
   "execution_count": 135,
   "id": "87cbfdb5",
   "metadata": {
    "execution": {
     "iopub.execute_input": "2022-12-22T11:08:06.770179Z",
     "iopub.status.busy": "2022-12-22T11:08:06.769505Z",
     "iopub.status.idle": "2022-12-22T11:08:06.775286Z",
     "shell.execute_reply": "2022-12-22T11:08:06.773985Z",
     "shell.execute_reply.started": "2022-12-22T11:08:06.770142Z"
    }
   },
   "outputs": [],
   "source": [
    "test.remove(4314)"
   ]
  },
  {
   "cell_type": "code",
   "execution_count": 137,
   "id": "1074c54e",
   "metadata": {
    "execution": {
     "iopub.execute_input": "2022-12-22T11:08:28.630289Z",
     "iopub.status.busy": "2022-12-22T11:08:28.629925Z",
     "iopub.status.idle": "2022-12-22T11:08:28.634869Z",
     "shell.execute_reply": "2022-12-22T11:08:28.633817Z",
     "shell.execute_reply.started": "2022-12-22T11:08:28.630258Z"
    }
   },
   "outputs": [],
   "source": [
    "test.remove(4123)"
   ]
  },
  {
   "cell_type": "code",
   "execution_count": 139,
   "id": "e0d4ccef",
   "metadata": {
    "execution": {
     "iopub.execute_input": "2022-12-22T11:08:43.681674Z",
     "iopub.status.busy": "2022-12-22T11:08:43.681251Z",
     "iopub.status.idle": "2022-12-22T11:08:43.686750Z",
     "shell.execute_reply": "2022-12-22T11:08:43.685480Z",
     "shell.execute_reply.started": "2022-12-22T11:08:43.681636Z"
    }
   },
   "outputs": [],
   "source": [
    "test.remove(4721)"
   ]
  },
  {
   "cell_type": "code",
   "execution_count": 141,
   "id": "fcec571a",
   "metadata": {
    "execution": {
     "iopub.execute_input": "2022-12-22T11:09:08.441186Z",
     "iopub.status.busy": "2022-12-22T11:09:08.440808Z",
     "iopub.status.idle": "2022-12-22T11:09:08.446839Z",
     "shell.execute_reply": "2022-12-22T11:09:08.445545Z",
     "shell.execute_reply.started": "2022-12-22T11:09:08.441154Z"
    }
   },
   "outputs": [],
   "source": [
    "test.remove(4550)"
   ]
  },
  {
   "cell_type": "code",
   "execution_count": 149,
   "id": "0f8893c8",
   "metadata": {
    "execution": {
     "iopub.execute_input": "2022-12-22T11:10:50.521524Z",
     "iopub.status.busy": "2022-12-22T11:10:50.521153Z",
     "iopub.status.idle": "2022-12-22T11:10:50.526659Z",
     "shell.execute_reply": "2022-12-22T11:10:50.525430Z",
     "shell.execute_reply.started": "2022-12-22T11:10:50.521491Z"
    }
   },
   "outputs": [],
   "source": [
    "test.remove(4553)"
   ]
  },
  {
   "cell_type": "code",
   "execution_count": 151,
   "id": "05ee9295",
   "metadata": {
    "execution": {
     "iopub.execute_input": "2022-12-22T11:11:21.970134Z",
     "iopub.status.busy": "2022-12-22T11:11:21.969163Z",
     "iopub.status.idle": "2022-12-22T11:11:21.974636Z",
     "shell.execute_reply": "2022-12-22T11:11:21.973626Z",
     "shell.execute_reply.started": "2022-12-22T11:11:21.970097Z"
    }
   },
   "outputs": [],
   "source": [
    "test.remove(4708)"
   ]
  },
  {
   "cell_type": "code",
   "execution_count": 153,
   "id": "dc944b35",
   "metadata": {
    "execution": {
     "iopub.execute_input": "2022-12-22T11:11:42.732642Z",
     "iopub.status.busy": "2022-12-22T11:11:42.732204Z",
     "iopub.status.idle": "2022-12-22T11:11:42.738100Z",
     "shell.execute_reply": "2022-12-22T11:11:42.736750Z",
     "shell.execute_reply.started": "2022-12-22T11:11:42.732592Z"
    }
   },
   "outputs": [],
   "source": [
    "test.remove(4566)"
   ]
  },
  {
   "cell_type": "code",
   "execution_count": 154,
   "id": "7b0e1932",
   "metadata": {
    "execution": {
     "iopub.execute_input": "2022-12-22T11:11:45.465445Z",
     "iopub.status.busy": "2022-12-22T11:11:45.464372Z",
     "iopub.status.idle": "2022-12-22T11:11:45.478855Z",
     "shell.execute_reply": "2022-12-22T11:11:45.477634Z",
     "shell.execute_reply.started": "2022-12-22T11:11:45.465394Z"
    }
   },
   "outputs": [
    {
     "name": "stdout",
     "output_type": "stream",
     "text": [
      "Beloved\n",
      "Duplex\n",
      "The Sleepwalker\n",
      "Foodfight!\n",
      "Not Cool\n",
      "The Wiz\n",
      "Phantasm II\n",
      "I Think I Love My Wife\n",
      "Puss in Boots\n",
      "Miss Potter\n",
      "Red Dragon\n",
      "Ride Along\n",
      "Flash of Genius\n",
      "The Day After Tomorrow\n",
      "Dogma\n",
      "My Blueberry Nights\n",
      "Trash\n",
      "The Last of the Mohicans\n",
      "Son of God\n",
      "キャプテンハーロック\n",
      "Taking Woodstock\n",
      "Repo! The Genetic Opera\n",
      "The Whole Nine Yards\n",
      "Drop Dead Gorgeous\n",
      "Police Academy\n",
      "Sunshine Cleaning\n",
      "Eternal Sunshine of the Spotless Mind\n",
      "She Done Him Wrong\n",
      "Morvern Callar\n",
      "The Tourist\n",
      "The Return of the Pink Panther\n",
      "An Education\n",
      "Deadline - U.S.A.\n",
      "The Nun's Story\n",
      "The House of the Devil\n",
      "Alien³\n",
      "Click\n",
      "Deep Impact\n",
      "Hachi: A Dog's Tale\n",
      "5 Days of War\n",
      "A Nightmare on Elm Street 5: The Dream Child\n",
      "The Imaginarium of Doctor Parnassus\n",
      "American Psycho\n",
      "해운대\n",
      "Big Momma's House\n",
      "Ali\n",
      "Max Payne\n",
      "Super 8\n",
      "Get on Up\n",
      "The Last Sin Eater\n",
      "Clueless\n",
      "Go\n",
      "Little Children\n",
      "True Lies\n",
      "Torn Curtain\n",
      "The Christmas Candle\n",
      "Men in Black 3\n",
      "Hostel: Part II\n",
      "She's the One\n",
      "My Week with Marilyn\n",
      "Casper\n",
      "Arthur Christmas\n",
      "The Matrix Revolutions\n",
      "Raise Your Voice\n",
      "Survivor\n",
      "Teenage Mutant Ninja Turtles III\n",
      "The Dead Girl\n",
      "Below Zero\n",
      "Wuthering Heights\n",
      "A Room with a View\n",
      "Osama\n",
      "Bleeding Hearts\n",
      "Doubt\n",
      "El orfanato\n",
      "Deuce Bigalow: Male Gigolo\n",
      "Steamboy\n",
      "Gettysburg\n",
      "The Man from U.N.C.L.E.\n",
      "The Karate Kid\n",
      "A View to a Kill\n",
      "Spider-Man\n",
      "Le petit Nicolas\n",
      "Namastey London\n",
      "Gremlins 2: The New Batch\n",
      "I Still Know What You Did Last Summer\n",
      "Hot Pursuit\n",
      "Iron Man 2\n",
      "The Prince & Me\n",
      "Chocolate: Deep Dark Secrets\n",
      "The Merchant of Venice\n",
      "Cleopatra\n",
      "Beyond Borders\n",
      "The Perfect Wave\n",
      "Catch That Kid\n",
      "Yes Man\n",
      "Love the Coopers\n",
      "Barnyard\n",
      "O\n",
      "Entre les murs\n",
      "Timber Falls\n",
      "Sea of Love\n",
      "Four Weddings and a Funeral\n",
      "Outside Providence\n",
      "The Tailor of Panama\n",
      "I Married a Strange Person!\n",
      "The Last Temptation of Christ\n",
      "Ice Age: The Meltdown\n",
      "Locker 13\n",
      "Heist\n",
      "It's a Wonderful Life\n",
      "Evil Dead\n",
      "True Lies\n",
      "Madison\n",
      "Catwoman\n",
      "Flammen & Citronen\n",
      "My Super Ex-Girlfriend\n",
      "Eye for an Eye\n",
      "Gerry\n",
      "Dr. No\n",
      "She's the One\n",
      "Killer Elite\n",
      "Space Chimps\n",
      "Bicentennial Man\n",
      "Taxi Driver\n",
      "Thr3e\n",
      "A Nightmare on Elm Street 3: Dream Warriors\n",
      "The Hateful Eight\n",
      "Mallrats\n",
      "The Perez Family\n",
      "Insidious: Chapter 3\n",
      "Love Jones\n",
      "Teen Wolf Too\n",
      "The Pursuit of D.B. Cooper\n",
      "Maid in Manhattan\n",
      "Tombstone\n",
      "Independence Daysaster\n",
      "Driving Miss Daisy\n",
      "La femme de chambre du Titanic\n",
      "Monsters vs Aliens\n",
      "On Her Majesty's Secret Service\n",
      "Fast Times at Ridgemont High\n",
      "Something Wicked\n",
      "Escape from L.A.\n",
      "We Bought a Zoo\n",
      "Marmaduke\n",
      "Session 9\n",
      "Something Borrowed\n",
      "Nannerl, la soeur de Mozart\n",
      "The Railway Man\n",
      "The Spectacular Now\n",
      "The Emperor's New Groove\n",
      "Here Comes the Boom\n",
      "Whatever It Takes\n",
      "Crocodile Dundee in Los Angeles\n",
      "Memento\n",
      "For Colored Girls\n",
      "Tinker Tailor Soldier Spy\n",
      "The Firm\n",
      "Betty Fisher et autres histoires\n",
      "Panic Room\n",
      "Sugar Hill\n",
      "The Last Dragon\n",
      "Slackers\n",
      "Rounders\n",
      "A Christmas Story\n",
      "The Wizard of Oz\n",
      "Ready to Rumble\n",
      "Spice World\n",
      "The Brave Little Toaster\n",
      "The Mighty Macs\n",
      "Doctor Zhivago\n",
      "Corpse Bride\n",
      "Wu Ji\n",
      "American Hustle\n",
      "Elizabethtown\n",
      "The Mask\n",
      "The Wolverine\n",
      "Red Lights\n",
      "The Boy in the Striped Pyjamas\n",
      "The Mirror Has Two Faces\n",
      "Demonic\n",
      "Dune\n",
      "Pirates of the Caribbean: Dead Man's Chest\n",
      "Incident at Loch Ness\n",
      "Why Did I Get Married?\n",
      "Ladyhawke\n",
      "The Longest Yard\n",
      "47 Ronin\n",
      "A Mighty Heart\n",
      "The 51st State\n",
      "Ghost\n",
      "Thomas and the Magic Railroad\n",
      "End of Days\n",
      "The Longshots\n",
      "Home Alone\n",
      "Down to Earth\n",
      "The Best Man\n",
      "Superman II\n",
      "May\n",
      "High Crimes\n",
      "Small Apartments\n",
      "2001: A Space Odyssey\n",
      "Eyes Wide Shut\n",
      "Showdown in Little Tokyo\n",
      "The Beach\n",
      "The Rock\n",
      "Proud\n",
      "In the Name of the King: A Dungeon Siege Tale\n",
      "But I'm a Cheerleader\n",
      "Les visiteurs\n",
      "Home Fries\n",
      "GirlHouse\n",
      "Sorcerer\n",
      "Cloudy with a Chance of Meatballs\n",
      "School of Rock\n",
      "Un long dimanche de fiançailles\n",
      "Bandits\n",
      "Gossip\n",
      "Blue Crush\n",
      "This Means War\n",
      "The Sweet Hereafter\n",
      "Central do Brasil\n",
      "Trade\n",
      "Garfield: A Tail of Two Kitties\n",
      "Freddy vs. Jason\n",
      "Pocketful of Miracles\n",
      "The Quiet American\n",
      "Beyond Borders\n",
      "New York Stories\n",
      "The Wackness\n",
      "The Adventures of Elmo in Grouchland\n",
      "Sardaarji\n",
      "Saw IV\n",
      "Airlift\n",
      "License to Wed\n",
      "Home Run\n",
      "Frailty\n",
      "Chappie\n",
      "Growing Up Smith\n",
      "Little Man\n",
      "Un long dimanche de fiançailles\n",
      "Flatliners\n",
      "Shakespeare in Love\n",
      "Drillbit Taylor\n",
      "Julija in Alfa Romeo\n",
      "The Company\n",
      "I Can Do Bad All By Myself\n",
      "Enter the Void\n",
      "House at the End of the Street\n",
      "Drillbit Taylor\n",
      "Walk the Line\n",
      "New York Minute\n",
      "The Love Letter\n",
      "The Innkeepers\n",
      "Teenage Mutant Ninja Turtles II: The Secret of the Ooze\n",
      "The Ridiculous 6\n",
      "Blue Ruin\n",
      "The Infiltrator\n",
      "Max Keeble's Big Move\n",
      "Oculus\n",
      "Selma\n",
      "The To Do List\n",
      "Turbulence\n",
      "The Egyptian\n",
      "Alexander's Ragtime Band\n",
      "Roll Bounce\n",
      "No se Aceptan Devoluciones\n",
      "Videodrome\n",
      "Doug's 1st Movie\n",
      "Phone Booth\n",
      "Annabelle\n",
      "My Bloody Valentine\n",
      "Batman Returns\n",
      "Babe\n",
      "Extreme Measures\n",
      "A Walk Among the Tombstones\n",
      "Welcome to Collinwood\n",
      "The Change-Up\n",
      "Edtv\n",
      "Gojira ni-sen mireniamu\n",
      "Love and Death on Long Island\n",
      "Timeline\n",
      "Miss Congeniality\n",
      "12 Rounds\n",
      "The Number 23\n",
      "Wanderlust\n",
      "La Guerre du feu\n",
      "Alexander and the Terrible, Horrible, No Good, Very Bad Day\n",
      "Transamerica\n",
      "Hoodwinked Too! Hood VS. Evil\n",
      "Hellboy II: The Golden Army\n",
      "Hobo with a Shotgun\n",
      "Sherlock Holmes: A Game of Shadows\n",
      "Obitaemyy Ostrov\n",
      "Red Lights\n",
      "Sublime\n",
      "Harry Brown\n",
      "Cinderella Man\n",
      "I Heart Huckabees\n",
      "The Adventurer: The Curse of the Midas Box\n",
      "Outside Bet\n",
      "They\n",
      "Wolves\n",
      "Madea Goes to Jail\n",
      "Jefferson in Paris\n",
      "The Shallows\n",
      "But I'm a Cheerleader\n",
      "Notting Hill\n",
      "Delgo\n",
      "In the Bedroom\n",
      "The Wackness\n",
      "Håkon Håkonsen\n",
      "좋은 놈, 나쁜 놈, 이상한 놈\n",
      "Monster\n",
      "Just Like Heaven\n",
      "Butterfly\n",
      "Elle s'appelait Sarah\n",
      "The Canyons\n",
      "Blackhat\n",
      "The Time Traveler's Wife\n",
      "The Cable Guy\n",
      "The Fault in Our Stars\n",
      "Rain Man\n",
      "Duma\n",
      "The Face of an Angel\n",
      "The Bourne Ultimatum\n",
      "Superman II\n",
      "The Client\n",
      "Code 46\n",
      "Paper Towns\n",
      "Diary of the Dead\n",
      "The Ladykillers\n",
      "The Ten\n",
      "Bright Star\n",
      "Paranormal Activity 2\n",
      "D-Tox\n",
      "Sinister\n",
      "Awake\n",
      "Paint Your Wagon\n",
      "The Avengers\n",
      "The Infiltrator\n",
      "Cube\n",
      "Trust\n",
      "Django Unchained\n",
      "Batman & Robin\n",
      "Switchback\n",
      "A Beautiful Mind\n",
      "3:10 to Yuma\n",
      "Dr. Strangelove or: How I Learned to Stop Worrying and Love the Bomb\n",
      "Bowfinger\n",
      "The French Connection\n",
      "Sorstalanság\n",
      "My Name Is Bruce\n",
      "The SpongeBob Movie: Sponge Out of Water\n",
      "20,000 Leagues Under the Sea\n",
      "55 Days at Peking\n",
      "American Wedding\n",
      "Robot & Frank\n",
      "Drive\n",
      "Dracula: Pages from a Virgin's Diary\n",
      "3 Backyards\n",
      "Due occhi diabolici\n",
      "Ladyhawke\n",
      "Young Guns\n",
      "Johnny Suede\n",
      "Aliens\n",
      "Transporter 2\n",
      "A Few Good Men\n",
      "Juno\n",
      "Swept Away\n",
      "The Nutcracker\n",
      "兔侠传奇\n",
      "Dinosaur\n",
      "The Notebook\n",
      "City of Ember\n",
      "Incident at Loch Ness\n",
      "Good bye, Lenin!\n",
      "Drag Me to Hell\n",
      "The Frozen Ground\n",
      "Public Enemies\n",
      "Stay Alive\n",
      "Identity Thief\n",
      "Hellraiser\n",
      "Oz: The Great and Powerful\n",
      "Valkyrie\n",
      "Treading Water\n",
      "The Cry of the Owl\n",
      "Hoffa\n",
      "Double Impact\n",
      "Final Destination 5\n",
      "Jakob the Liar\n",
      "The Empire Strikes Back\n",
      "Four Rooms\n",
      "Jaws: The Revenge\n",
      "Bathory\n",
      "Highlander\n",
      "Back to the Future Part III\n",
      "少林足球\n",
      "Space Jam\n",
      "The Stepfather\n",
      "Cliffhanger\n",
      "The Devil Inside\n",
      "Crazy, Stupid, Love.\n",
      "Snow Flower and the Secret Fan\n",
      "The Warrior's Way\n",
      "Witness\n",
      "Get Low\n",
      "Clay Pigeons\n",
      "Seeking a Friend for the End of the World\n",
      "The Box\n",
      "Taxi to the Dark Side\n",
      "Horrible Bosses\n",
      "Sgt. Bilko\n",
      "Austin Powers: The Spy Who Shagged Me\n",
      "Bella\n",
      "The Oxford Murders\n",
      "Laws of Attraction\n",
      "Pirates of the Caribbean: The Curse of the Black Pearl\n",
      "A Bug's Life\n",
      "南京!南京!\n",
      "Hannibal Rising\n",
      "Reign Over Me\n",
      "GoodFellas\n",
      "Code Name: The Cleaner\n",
      "The Inkwell\n",
      "Aberdeen\n",
      "Royal Kill\n",
      "Tango, no me dejes nunca\n",
      "The Big Bounce\n",
      "The Devil's Tomb\n",
      "See Spot Run\n",
      "Class of 1984\n",
      "Harry Brown\n",
      "EuroTrip\n",
      "Paris, je t'aime\n",
      "Q\n",
      "End of the Spear\n",
      "The Tempest\n",
      "Trouble with the Curve\n",
      "Safety Not Guaranteed\n",
      "Fruitvale Station\n",
      "Eternal Sunshine of the Spotless Mind\n",
      "White Chicks\n",
      "Lifeforce\n",
      "Ghost Ship\n",
      "สุริโยไท\n",
      "新宿事件\n",
      "Hesher\n",
      "Maggie\n",
      "Rent\n",
      "Blood Work\n",
      "Fat Albert\n",
      "The Fugitive\n",
      "Kiss of Death\n",
      "Brokedown Palace\n",
      "The 5th Wave\n",
      "The Terminator\n",
      "The Kingdom\n",
      "The 6th Day\n",
      "Just Looking\n",
      "Laws of Attraction\n",
      "My Fellow Americans\n",
      "Avatar\n",
      "Man on Fire\n",
      "La Fille du RER\n",
      "Flatliners\n",
      "Child's Play\n",
      "Monsoon Wedding\n",
      "The Man Who Knew Too Little\n",
      "The Adventures of Tintin\n",
      "Conspiracy Theory\n",
      "Lonesome Jim\n",
      "Julie & Julia\n",
      "The Avengers\n",
      "Up\n",
      "Batman: The Dark Knight Returns, Part 2\n",
      "Harold & Kumar Go to White Castle\n",
      "Faithful\n",
      "We Need to Talk About Kevin\n",
      "The Benchwarmers\n",
      "Childless\n",
      "Sex, Lies, and Videotape\n",
      "The Five-Year Engagement\n",
      "Mama\n",
      "Martin Lawrence Live: Runteldat\n",
      "Chill Factor\n",
      "The Wolverine\n",
      "Alvin and the Chipmunks: The Squeakquel\n",
      "The Specialist\n",
      "Tinker Tailor Soldier Spy\n",
      "The Equalizer\n",
      "12 Years a Slave\n"
     ]
    }
   ],
   "source": [
    "for i in range(0,len(test)):\n",
    "    print(movies['original_title'][test[i]])"
   ]
  },
  {
   "cell_type": "code",
   "execution_count": 159,
   "id": "aef83840",
   "metadata": {
    "execution": {
     "iopub.execute_input": "2022-12-22T11:13:27.411474Z",
     "iopub.status.busy": "2022-12-22T11:13:27.411124Z",
     "iopub.status.idle": "2022-12-22T11:55:31.903164Z",
     "shell.execute_reply": "2022-12-22T11:55:31.902185Z",
     "shell.execute_reply.started": "2022-12-22T11:13:27.411443Z"
    }
   },
   "outputs": [],
   "source": [
    "real_rating = np.zeros(len(test))\n",
    "pred_cos = np.zeros(len(test))\n",
    "pred_euc = np.zeros(len(test))\n",
    "pred_man = np.zeros(len(test))\n",
    "for i in range(0,len(test)):\n",
    "    pred_cos[i], real_rating[i] = predict_score(test[i],Similarity_Cosine)"
   ]
  },
  {
   "cell_type": "code",
   "execution_count": 161,
   "id": "6d488984",
   "metadata": {
    "execution": {
     "iopub.execute_input": "2022-12-22T12:06:35.065878Z",
     "iopub.status.busy": "2022-12-22T12:06:35.065465Z",
     "iopub.status.idle": "2022-12-22T13:56:51.568152Z",
     "shell.execute_reply": "2022-12-22T13:56:51.567106Z",
     "shell.execute_reply.started": "2022-12-22T12:06:35.065844Z"
    }
   },
   "outputs": [],
   "source": [
    "pred_ham = np.zeros(len(test))\n",
    "for i in range(0,len(test)):\n",
    "    pred_ham[i], real_rating[i] = predict_score(test[i],Similarity_Hamming)\n",
    "    pred_euc[i], real_rating[i] = predict_score(test[i],Similarity_Euclidean)\n",
    "    pred_man[i], real_rating[i] = predict_score(test[i],Similarity_Manhattan)"
   ]
  },
  {
   "cell_type": "code",
   "execution_count": 162,
   "id": "3d259b30",
   "metadata": {
    "execution": {
     "iopub.execute_input": "2022-12-22T14:10:06.080262Z",
     "iopub.status.busy": "2022-12-22T14:10:06.079883Z",
     "iopub.status.idle": "2022-12-22T14:10:06.090345Z",
     "shell.execute_reply": "2022-12-22T14:10:06.089146Z",
     "shell.execute_reply.started": "2022-12-22T14:10:06.080228Z"
    }
   },
   "outputs": [
    {
     "name": "stdout",
     "output_type": "stream",
     "text": [
      "[5.9  5.21 6.49 6.12 5.95 6.63 6.05 5.32 6.23 6.72 5.98 5.99 6.06 6.58\n",
      " 6.11 6.88 5.88 6.59 6.01 5.19 6.27 5.36 5.86 6.37 6.2  6.23 6.54 6.22\n",
      " 6.68 6.09 6.31 7.21 5.33 6.53 6.23 6.46 6.32 6.72 6.83 6.89 6.63 6.38\n",
      " 6.62 6.35 6.27 6.44 5.   6.06 6.26 6.2  6.48 6.61 6.77 6.13 5.95 6.24\n",
      " 6.34 5.46 6.34 6.54 6.03 6.44 6.5  6.91 6.47 5.97 6.36 5.89 6.05 6.3\n",
      " 5.88 5.59 6.04 6.09 6.28 7.09 6.79 6.24 6.16 6.39 6.51 5.24 5.54 6.37\n",
      " 5.59 5.35 6.41 5.86 5.53 6.33 6.32 6.89 6.06 5.82 5.67 6.27 5.97 6.34\n",
      " 6.3  6.07 6.85 6.61 6.67 6.08 5.81 6.86 6.29 5.73 6.41 6.94 5.69 6.13\n",
      " 7.01 6.62 6.82 6.38 5.9  7.11 6.53 6.34 5.64 6.35 6.19 6.82 5.07 6.37\n",
      " 6.73 6.18 6.46 5.14 6.27 5.63 5.75 6.57 6.22 5.82 6.84 5.73 5.76 6.08\n",
      " 6.23 6.56 5.92 6.21 5.17 6.17 6.91 6.72 6.92 6.85 6.17 6.03 6.03 5.4\n",
      " 6.41 6.53 6.84 6.4  5.14 6.41 5.72 5.75 6.29 6.48 5.96 6.47 6.4  6.22\n",
      " 6.14 6.14 6.41 6.56 6.12 6.07 6.52 6.   6.72 5.75 6.5  6.17 5.77 6.82\n",
      " 6.26 5.65 5.59 6.44 6.17 6.02 6.76 5.72 6.06 5.58 6.42 5.67 6.36 5.75\n",
      " 5.78 6.06 6.7  6.65 5.53 6.26 7.09 5.96 6.56 6.55 6.11 6.06 6.23 6.06\n",
      " 6.46 6.46 6.51 5.53 6.49 6.76 5.79 5.99 6.47 5.86 6.97 6.87 6.61 6.3\n",
      " 5.28 6.91 6.24 6.89 6.52 6.32 5.61 6.21 6.17 5.53 6.63 6.08 6.45 6.39\n",
      " 5.59 5.95 6.76 6.51 6.86 6.09 6.27 6.03 5.98 6.31 5.75 6.09 6.73 6.21\n",
      " 5.68 5.89 5.99 5.87 5.8  6.32 5.27 5.9  6.46 6.34 6.32 5.84 6.05 5.77\n",
      " 5.83 6.38 6.92 5.9  6.56 6.22 6.56 6.41 6.7  6.22 5.74 6.37 5.91 5.9\n",
      " 5.88 6.1  6.11 6.56 7.03 6.7  6.56 6.34 6.96 6.27 6.23 5.89 6.56 6.13\n",
      " 5.75 5.83 6.27 6.53 6.42 5.88 6.01 5.78 6.74 6.19 6.99 6.54 6.23 6.85\n",
      " 5.34 6.59 6.32 6.2  5.92 6.4  6.57 6.39 5.38 6.47 6.39 6.59 6.93 6.6\n",
      " 6.9  6.73 6.1  6.35 6.06 6.34 6.09 6.78 5.83 6.44 6.08 5.75 6.12 6.16\n",
      " 5.88 6.65 5.61 6.94 6.32 6.38 6.05 6.88 6.69 5.95 7.04 6.64 6.91 6.35\n",
      " 6.4  6.55 5.83 6.28 7.06 6.15 5.59 6.   6.   6.09 5.93 6.31 6.44 6.43\n",
      " 6.26 5.76 6.35 6.56 6.3  5.86 4.88 5.37 6.25 6.6  6.54 5.65 6.52 6.16\n",
      " 6.   6.63 6.33 5.02 6.19 6.79 6.67 6.42 6.05 6.47 6.28 5.93 6.84 6.56\n",
      " 6.49 6.41 6.3  6.71 6.54 5.64 7.   5.62 5.93 5.66 6.47 5.97 6.51 5.21\n",
      " 5.49 6.61 6.41 6.3  6.55 6.13 6.37 6.21 7.13 6.57 6.02 6.64 6.01 6.49\n",
      " 6.59 6.8  7.16 5.65 6.12 6.86 6.31 6.38 6.68 6.2  4.98 6.39 6.27 6.06\n",
      " 6.6  5.73 6.11 6.42 6.34 5.87 6.92 6.54 5.77 5.86 5.71 6.06 6.59 6.73\n",
      " 6.21 7.06 6.75 5.99 6.08 5.4  6.04 6.14 6.21 6.48 6.43 6.6  6.02 6.12\n",
      " 6.42 6.77 5.46 6.51 6.26 6.11 6.76 6.04 6.89 6.47 6.78 6.94 6.42 6.25\n",
      " 6.34 7.09 6.17 6.13 4.85 6.54 6.13 5.99 6.15 5.2  6.72 6.01 6.04 6.84\n",
      " 6.7  7.05]\n"
     ]
    }
   ],
   "source": [
    "print(pred_man)"
   ]
  },
  {
   "cell_type": "code",
   "execution_count": 160,
   "id": "3ced0465",
   "metadata": {
    "execution": {
     "iopub.execute_input": "2022-12-22T12:06:24.176737Z",
     "iopub.status.busy": "2022-12-22T12:06:24.175720Z",
     "iopub.status.idle": "2022-12-22T12:06:24.192614Z",
     "shell.execute_reply": "2022-12-22T12:06:24.191429Z",
     "shell.execute_reply.started": "2022-12-22T12:06:24.176689Z"
    }
   },
   "outputs": [
    {
     "name": "stdout",
     "output_type": "stream",
     "text": [
      "[5.57 5.29 6.81 6.02 6.13 6.92 5.98 5.78 6.29 6.58 5.73 5.95 6.95 6.14\n",
      " 6.07 6.87 6.14 6.48 6.77 5.1  6.74 5.87 5.98 6.22 6.23 6.79 6.7  5.97\n",
      " 6.99 6.29 5.9  6.94 5.68 7.05 6.17 6.35 6.38 6.85 6.79 7.04 6.16 6.44\n",
      " 6.6  6.35 5.8  6.52 5.54 6.48 7.07 6.92 5.82 6.54 7.17 6.36 6.49 6.6\n",
      " 5.89 6.36 6.25 6.73 5.99 6.5  6.22 6.63 6.19 5.66 6.45 5.31 6.5  6.61\n",
      " 5.89 4.99 6.28 6.2  5.81 6.67 6.89 5.96 6.4  6.25 6.3  5.65 5.82 6.38\n",
      " 5.88 5.91 6.98 6.09 5.18 7.08 6.6  6.52 6.66 5.76 5.68 5.73 6.68 6.44\n",
      " 6.74 5.82 6.59 6.22 6.32 6.2  6.14 7.19 6.57 6.   5.74 7.01 5.28 6.36\n",
      " 6.9  6.31 7.31 5.86 5.73 7.15 6.27 6.25 5.88 6.65 5.86 7.45 5.01 5.72\n",
      " 7.23 6.26 6.33 5.65 6.43 6.02 5.78 6.53 6.27 5.93 6.55 6.33 5.99 5.96\n",
      " 5.93 6.46 6.68 6.09 4.52 6.05 6.73 6.57 6.58 6.23 6.45 5.87 6.02 5.85\n",
      " 6.67 6.55 6.56 6.12 5.77 6.68 5.28 6.13 6.15 7.08 5.03 6.49 6.4  6.25\n",
      " 6.38 5.94 7.22 6.73 6.08 7.09 6.43 6.21 6.35 5.76 7.06 6.36 5.59 6.68\n",
      " 6.45 5.35 5.29 6.3  6.3  6.32 5.94 5.63 6.34 4.97 5.66 5.14 6.34 5.36\n",
      " 5.57 6.08 6.68 6.44 5.1  6.61 6.97 5.91 6.68 6.24 6.76 5.35 6.19 5.53\n",
      " 6.35 5.88 6.33 6.38 6.6  6.77 5.55 6.04 6.27 5.58 6.89 7.06 6.74 6.08\n",
      " 5.91 6.84 6.43 6.52 6.28 6.35 4.6  4.91 5.75 6.4  6.29 6.15 6.53 6.35\n",
      " 5.37 6.3  6.77 6.33 6.48 6.08 6.69 6.37 5.92 6.72 5.64 6.08 6.91 5.99\n",
      " 6.21 5.81 6.31 5.69 6.84 6.72 4.85 5.6  6.83 5.94 6.1  6.56 6.07 5.65\n",
      " 6.49 6.23 6.48 6.39 6.2  5.97 6.68 6.   6.36 6.27 5.52 5.96 5.69 6.16\n",
      " 6.32 7.   5.58 5.8  6.54 5.95 6.84 5.55 7.03 6.19 6.39 6.09 6.64 6.09\n",
      " 5.76 5.1  6.38 6.61 5.95 6.29 5.65 5.59 6.9  6.61 6.59 5.97 6.19 6.8\n",
      " 4.93 6.12 6.35 5.91 5.87 6.58 6.36 6.67 6.06 5.66 6.83 6.83 6.34 6.85\n",
      " 6.66 6.81 5.66 6.78 6.08 6.42 6.57 6.67 5.71 6.53 5.87 6.7  5.41 5.83\n",
      " 6.12 6.01 5.96 6.93 6.72 6.33 5.89 7.   6.32 6.24 7.3  7.51 6.95 6.41\n",
      " 6.33 7.24 5.59 6.53 6.9  6.61 6.14 6.57 5.73 5.25 6.03 5.93 6.3  6.63\n",
      " 6.21 5.99 6.33 6.77 6.4  5.86 4.94 4.91 5.94 6.45 6.19 5.35 6.24 5.81\n",
      " 6.75 6.65 5.59 5.23 6.13 6.87 7.34 6.78 6.51 6.62 5.8  6.05 6.78 6.49\n",
      " 6.44 6.23 6.68 5.9  6.53 5.85 6.5  5.47 5.77 5.69 6.54 6.9  5.75 6.13\n",
      " 5.78 6.42 6.16 6.52 6.71 5.98 5.35 6.29 6.92 6.27 5.92 6.33 6.65 7.16\n",
      " 6.81 6.79 7.42 5.29 6.17 6.87 6.08 6.71 6.09 6.34 4.87 6.26 6.38 5.88\n",
      " 6.63 6.08 6.06 6.97 6.84 5.91 6.91 6.7  5.38 5.86 5.72 7.05 6.84 7.13\n",
      " 6.14 6.91 6.75 5.93 6.13 5.56 6.17 6.4  6.55 6.44 5.28 6.88 5.92 6.57\n",
      " 6.53 6.55 6.19 6.33 6.24 6.11 5.88 6.77 6.34 6.48 6.82 6.93 6.71 5.95\n",
      " 5.72 6.77 6.21 5.76 5.24 6.49 5.75 6.16 5.73 5.47 6.35 6.09 6.04 6.56\n",
      " 6.38 7.17]\n"
     ]
    }
   ],
   "source": [
    "print(pred_cos)"
   ]
  },
  {
   "cell_type": "code",
   "execution_count": 163,
   "id": "c10e6e9b",
   "metadata": {
    "execution": {
     "iopub.execute_input": "2022-12-22T14:10:13.605340Z",
     "iopub.status.busy": "2022-12-22T14:10:13.604956Z",
     "iopub.status.idle": "2022-12-22T14:10:13.615339Z",
     "shell.execute_reply": "2022-12-22T14:10:13.614162Z",
     "shell.execute_reply.started": "2022-12-22T14:10:13.605308Z"
    }
   },
   "outputs": [
    {
     "name": "stdout",
     "output_type": "stream",
     "text": [
      "[5.73 5.27 6.52 6.02 6.04 6.93 6.14 5.62 6.16 6.86 5.6  5.82 6.26 6.4\n",
      " 6.19 7.08 5.88 6.57 6.64 5.18 6.46 5.38 5.73 6.17 5.74 6.79 6.9  5.83\n",
      " 6.72 6.24 5.92 6.95 6.01 6.93 6.32 6.38 6.82 7.2  6.97 7.05 6.21 5.92\n",
      " 6.67 6.47 6.06 6.29 5.75 6.34 6.4  6.7  6.28 6.51 7.01 5.93 5.88 6.62\n",
      " 5.97 5.99 6.36 6.81 6.2  6.29 6.1  7.01 6.48 5.76 6.39 5.19 6.14 6.26\n",
      " 5.92 4.86 6.37 5.73 5.9  6.73 6.93 5.85 6.29 6.3  6.19 5.67 5.98 6.4\n",
      " 5.74 6.35 7.16 5.9  5.33 6.89 6.45 6.8  6.44 5.5  5.69 5.41 6.66 6.66\n",
      " 6.91 5.5  7.37 6.31 6.4  6.28 6.28 6.91 6.71 5.54 5.91 6.93 5.29 5.93\n",
      " 6.95 6.24 7.21 6.23 5.73 7.34 6.39 6.36 5.48 6.5  5.95 7.07 4.88 5.74\n",
      " 6.89 5.74 6.35 5.27 6.3  5.82 5.17 6.67 6.57 5.95 6.6  6.54 5.73 6.21\n",
      " 6.15 6.39 6.32 6.15 4.76 5.98 6.88 6.84 6.75 6.46 6.46 5.55 6.3  6.\n",
      " 6.65 6.59 6.53 5.97 5.6  6.05 5.6  5.67 6.09 6.49 5.25 6.49 6.29 6.11\n",
      " 6.51 6.46 7.26 6.39 5.96 6.06 6.32 5.99 6.57 5.28 6.98 6.26 5.32 6.83\n",
      " 6.65 4.98 5.61 6.26 6.28 6.3  6.11 5.52 6.46 5.53 6.07 5.39 6.07 5.4\n",
      " 5.32 6.17 6.96 6.42 5.15 6.55 7.01 5.93 6.31 6.6  6.5  6.22 5.95 5.49\n",
      " 6.25 5.92 6.45 6.2  6.47 6.74 5.08 6.3  6.33 5.84 7.08 7.12 6.86 6.1\n",
      " 5.41 6.75 6.48 6.8  6.2  6.57 4.87 6.21 5.79 6.13 6.25 6.37 6.65 6.11\n",
      " 6.2  5.99 6.74 5.88 6.73 6.01 6.22 5.48 5.84 6.52 5.64 6.01 6.99 6.17\n",
      " 6.15 5.71 6.13 5.11 6.64 6.41 4.95 5.33 6.96 5.99 6.19 6.32 6.43 6.17\n",
      " 5.98 6.15 6.7  6.09 6.01 5.96 6.27 6.21 6.58 6.57 5.81 6.06 5.68 6.1\n",
      " 6.19 7.22 5.54 6.   6.23 6.06 6.6  5.77 7.04 6.35 6.49 5.99 6.64 5.99\n",
      " 5.28 5.26 6.28 6.47 6.06 6.19 5.29 5.44 7.   6.61 6.79 6.07 5.95 6.9\n",
      " 5.29 5.99 6.57 5.99 5.69 6.16 6.21 6.63 6.   6.22 7.13 7.05 6.73 6.9\n",
      " 7.06 6.87 5.77 6.66 6.17 6.07 6.45 6.87 5.39 6.15 5.9  6.32 5.72 6.01\n",
      " 5.34 6.44 5.93 7.01 6.41 6.53 5.98 7.14 6.32 5.99 7.01 7.34 6.45 6.18\n",
      " 6.26 6.87 6.3  6.31 6.71 6.49 6.16 6.62 5.36 5.46 5.97 5.93 6.26 6.72\n",
      " 6.09 5.73 6.22 6.96 6.27 5.79 5.09 5.2  6.03 6.11 6.37 4.98 6.28 5.66\n",
      " 6.06 6.96 5.8  5.26 6.15 6.89 7.16 6.94 6.23 6.07 5.76 6.17 7.04 6.65\n",
      " 6.13 6.16 6.85 6.08 6.43 5.62 6.49 5.52 6.25 5.38 6.16 6.45 5.98 6.54\n",
      " 5.59 6.52 6.07 6.51 6.74 5.94 5.26 6.24 7.05 6.1  5.9  6.35 6.28 7.3\n",
      " 6.67 6.97 7.68 5.15 6.24 6.91 6.28 6.61 6.25 6.32 5.29 6.37 6.28 6.12\n",
      " 6.99 6.03 6.   6.81 6.62 5.79 6.8  6.9  5.61 5.87 5.95 6.85 6.74 7.04\n",
      " 5.76 6.92 6.49 6.48 6.25 5.64 6.14 6.48 6.27 6.53 6.1  6.69 5.9  6.28\n",
      " 6.18 6.73 6.39 5.88 6.71 6.09 5.86 6.48 6.94 6.17 6.86 7.01 6.53 6.1\n",
      " 5.96 6.76 6.38 5.86 5.23 6.66 5.81 5.9  5.49 5.47 6.57 6.09 5.93 6.53\n",
      " 6.62 7.07]\n"
     ]
    }
   ],
   "source": [
    "print(pred_ham)"
   ]
  },
  {
   "cell_type": "code",
   "execution_count": 164,
   "id": "449c2404",
   "metadata": {
    "execution": {
     "iopub.execute_input": "2022-12-22T14:10:18.845631Z",
     "iopub.status.busy": "2022-12-22T14:10:18.845253Z",
     "iopub.status.idle": "2022-12-22T14:10:18.855237Z",
     "shell.execute_reply": "2022-12-22T14:10:18.854020Z",
     "shell.execute_reply.started": "2022-12-22T14:10:18.845598Z"
    }
   },
   "outputs": [
    {
     "name": "stdout",
     "output_type": "stream",
     "text": [
      "[5.9 5.9 4.1 2.3 3.7 5.9 6.3 5.  6.4 6.3 6.7 6.1 6.3 6.2 6.8 6.  7.1 7.1\n",
      " 5.9 6.5 6.2 6.7 6.2 6.4 4.1 6.5 7.9 5.1 7.2 6.  6.7 6.8 6.9 7.4 6.  6.2\n",
      " 6.  5.9 7.7 5.8 5.5 6.3 7.3 6.5 5.4 6.4 5.2 6.6 6.4 6.2 6.9 5.8 6.9 6.8\n",
      " 6.4 5.8 6.2 5.6 5.7 6.6 6.  6.7 6.4 6.  7.4 5.1 6.4 4.4 6.9 6.9 6.3 2.\n",
      " 7.  7.1 5.5 6.4 6.6 7.1 6.9 6.  5.9 5.9 6.6 6.2 5.1 5.4 6.6 5.9 3.4 6.7\n",
      " 6.7 6.7 4.4 4.9 6.4 5.4 5.3 6.4 6.8 5.2 6.7 6.6 5.6 6.2 7.5 7.  6.5 6.8\n",
      " 5.8 8.  6.4 6.8 7.3 4.2 6.8 4.8 5.8 6.2 6.9 5.7 6.1 5.2 6.9 8.  4.8 6.5\n",
      " 7.6 6.8 6.6 6.2 8.1 3.8 6.8 5.6 6.2 4.2 7.  5.3 6.  6.5 7.  4.6 5.6 6.5\n",
      " 5.  6.2 5.9 6.2 6.7 6.8 7.2 6.  5.  4.7 8.1 7.  6.6 6.6 7.  6.5 5.2 6.4\n",
      " 5.4 6.9 7.4 7.4 4.7 4.7 6.7 5.  7.4 7.2 5.  6.8 6.1 6.3 6.3 6.  7.7 6.5\n",
      " 4.9 6.5 7.  5.9 6.1 6.8 6.2 5.9 6.7 5.9 5.3 4.6 5.5 6.5 6.3 4.9 6.7 6.5\n",
      " 6.8 6.1 5.7 7.9 7.1 5.7 6.3 6.9 5.5 4.1 6.5 7.1 4.8 5.2 5.8 6.5 6.7 7.1\n",
      " 6.2 5.5 5.6 5.9 6.8 7.6 5.9 5.1 5.8 7.3 6.4 6.7 6.2 6.2 6.3 9.5 5.9 7.3\n",
      " 5.2 6.3 7.  6.6 7.4 5.3 7.1 6.3 6.8 5.5 6.  7.  6.  7.2 5.6 5.5 7.3 5.5\n",
      " 4.7 5.4 5.8 4.9 6.9 6.6 5.4 6.3 7.4 5.5 5.2 6.  4.8 6.1 7.5 7.1 5.4 6.7\n",
      " 5.6 5.3 6.6 5.2 5.7 6.2 6.2 5.9 5.7 5.9 6.9 5.4 5.3 5.7 6.3 5.3 7.1 6.1\n",
      " 6.9 4.8 6.5 5.7 7.  5.3 6.  5.3 6.7 7.3 6.2 5.1 5.8 4.6 7.6 6.4 5.2 6.2\n",
      " 6.5 7.  5.4 6.4 6.2 6.1 7.1 7.  6.5 6.3 7.2 4.1 5.1 6.7 5.7 7.6 7.6 6.9\n",
      " 4.7 7.3 6.5 6.4 6.2 6.1 5.4 6.  4.9 6.8 5.7 5.3 5.4 6.1 6.2 7.4 6.6 6.9\n",
      " 5.5 7.8 4.2 5.8 7.7 6.9 8.  6.  7.4 6.5 5.9 5.8 6.8 6.3 6.  6.8 4.5 6.9\n",
      " 4.8 6.  6.8 6.6 4.7 6.  6.2 7.1 7.  4.8 5.4 3.  6.6 7.7 6.2 5.9 7.4 6.2\n",
      " 6.1 6.5 5.3 5.6 6.9 5.7 6.7 5.6 5.5 6.1 5.3 5.9 6.  8.2 6.5 3.5 5.6 4.5\n",
      " 7.1 6.6 6.5 5.4 6.1 4.6 7.  5.3 6.3 5.9 6.5 6.3 6.3 6.6 6.6 6.1 5.5 6.2\n",
      " 6.7 5.7 5.6 7.5 6.8 7.6 6.  7.1 8.2 4.7 3.9 7.  2.8 6.8 5.  4.  4.8 6.2\n",
      " 6.7 6.5 6.8 6.1 6.1 6.  6.6 6.8 7.3 7.9 6.3 6.2 5.3 5.1 6.7 6.7 5.2 6.7\n",
      " 6.1 4.3 7.2 5.7 6.2 5.6 7.3 6.5 5.7 5.8 5.6 6.3 7.2 7.3 5.6 6.3 5.8 6.8\n",
      " 6.5 6.7 6.5 6.4 6.6 7.4 7.7 7.9 6.6 4.8 7.4 5.2 4.5 6.7 5.7 5.8 5.  5.3\n",
      " 6.3 5.4 5.5 6.6 7.1 7.9]\n"
     ]
    }
   ],
   "source": [
    "print(real_rating)"
   ]
  },
  {
   "cell_type": "markdown",
   "id": "b94153bb",
   "metadata": {},
   "source": [
    "### Hitung Error"
   ]
  },
  {
   "cell_type": "code",
   "execution_count": 166,
   "id": "b4731655",
   "metadata": {
    "execution": {
     "iopub.execute_input": "2022-12-22T14:10:30.456439Z",
     "iopub.status.busy": "2022-12-22T14:10:30.455087Z",
     "iopub.status.idle": "2022-12-22T14:10:30.462831Z",
     "shell.execute_reply": "2022-12-22T14:10:30.461621Z",
     "shell.execute_reply.started": "2022-12-22T14:10:30.456394Z"
    }
   },
   "outputs": [],
   "source": [
    "def error_rel(y_pred,y_real):\n",
    "    err_rel = np.zeros(len(y_pred))\n",
    "    for i in range(len(y_pred)):\n",
    "        err_rel[i] = abs(y_pred[i]-y_real[i])/y_real[i]\n",
    "    has_err = sum(err_rel)/len(y_pred) * 100\n",
    "    return has_err"
   ]
  },
  {
   "cell_type": "code",
   "execution_count": 167,
   "id": "432fed49",
   "metadata": {
    "execution": {
     "iopub.execute_input": "2022-12-22T14:10:33.935688Z",
     "iopub.status.busy": "2022-12-22T14:10:33.935288Z",
     "iopub.status.idle": "2022-12-22T14:10:33.941755Z",
     "shell.execute_reply": "2022-12-22T14:10:33.940619Z",
     "shell.execute_reply.started": "2022-12-22T14:10:33.935656Z"
    }
   },
   "outputs": [
    {
     "name": "stdout",
     "output_type": "stream",
     "text": [
      "12.187343452375607\n"
     ]
    }
   ],
   "source": [
    "man_err = error_rel(pred_man,real_rating)\n",
    "print(man_err)"
   ]
  },
  {
   "cell_type": "code",
   "execution_count": 168,
   "id": "ad5546fb",
   "metadata": {
    "execution": {
     "iopub.execute_input": "2022-12-22T14:10:39.448227Z",
     "iopub.status.busy": "2022-12-22T14:10:39.447843Z",
     "iopub.status.idle": "2022-12-22T14:10:39.454662Z",
     "shell.execute_reply": "2022-12-22T14:10:39.452912Z",
     "shell.execute_reply.started": "2022-12-22T14:10:39.448196Z"
    }
   },
   "outputs": [
    {
     "name": "stdout",
     "output_type": "stream",
     "text": [
      "11.788685650477445\n"
     ]
    }
   ],
   "source": [
    "euc_err = error_rel(pred_euc,real_rating)\n",
    "print(euc_err)"
   ]
  },
  {
   "cell_type": "code",
   "execution_count": 169,
   "id": "1cf485c4",
   "metadata": {
    "execution": {
     "iopub.execute_input": "2022-12-22T14:10:46.564887Z",
     "iopub.status.busy": "2022-12-22T14:10:46.564491Z",
     "iopub.status.idle": "2022-12-22T14:10:46.570876Z",
     "shell.execute_reply": "2022-12-22T14:10:46.569726Z",
     "shell.execute_reply.started": "2022-12-22T14:10:46.564856Z"
    }
   },
   "outputs": [
    {
     "name": "stdout",
     "output_type": "stream",
     "text": [
      "11.501954531530165\n"
     ]
    }
   ],
   "source": [
    "cos_err = error_rel(pred_cos,real_rating)\n",
    "print(cos_err)"
   ]
  },
  {
   "cell_type": "code",
   "execution_count": 170,
   "id": "b5396301",
   "metadata": {
    "execution": {
     "iopub.execute_input": "2022-12-22T14:10:50.405125Z",
     "iopub.status.busy": "2022-12-22T14:10:50.404659Z",
     "iopub.status.idle": "2022-12-22T14:10:50.412990Z",
     "shell.execute_reply": "2022-12-22T14:10:50.411658Z",
     "shell.execute_reply.started": "2022-12-22T14:10:50.405082Z"
    }
   },
   "outputs": [
    {
     "name": "stdout",
     "output_type": "stream",
     "text": [
      "11.942036941906489\n"
     ]
    }
   ],
   "source": [
    "ham_err = error_rel(pred_ham,real_rating)\n",
    "print(ham_err)"
   ]
  },
  {
   "cell_type": "markdown",
   "id": "484eea2f",
   "metadata": {},
   "source": [
    "### Plot Mean Relative Error"
   ]
  },
  {
   "cell_type": "code",
   "execution_count": 171,
   "id": "5049fb5c",
   "metadata": {
    "execution": {
     "iopub.execute_input": "2022-12-22T14:11:02.037258Z",
     "iopub.status.busy": "2022-12-22T14:11:02.036857Z",
     "iopub.status.idle": "2022-12-22T14:11:02.347690Z",
     "shell.execute_reply": "2022-12-22T14:11:02.346536Z",
     "shell.execute_reply.started": "2022-12-22T14:11:02.037225Z"
    }
   },
   "outputs": [
    {
     "data": {
      "image/png": "[encoded data removed]",
      "text/plain": [
       "<Figure size 432x288 with 1 Axes>"
      ]
     },
     "metadata": {},
     "output_type": "display_data"
    }
   ],
   "source": [
    "import matplotlib.pyplot as plt\n",
    "x = ['Hamming','Cosine','Euclidean','Manhattan']\n",
    "y = [round(ham_err,4),round(cos_err,4),round(euc_err,4),round(man_err,4)]\n",
    "plt.barh(x, y)\n",
    "for index, value in enumerate(y):\n",
    "    plt.text(value, index, str('{} %'.format(value)))\n",
    "plt.title('Bar Chart Mean Relative Error')\n",
    "plt.ylabel('Metric')\n",
    "plt.xlabel('MRE')\n",
    "plt.savefig('MRE1.jpg',bbox_inches='tight')\n",
    "plt.show()"
   ]
  },
  {
   "cell_type": "markdown",
   "id": "64bc7aa8",
   "metadata": {},
   "source": [
    "### Penggunaan"
   ]
  },
  {
   "cell_type": "code",
   "execution_count": 172,
   "id": "40f49037",
   "metadata": {
    "execution": {
     "iopub.execute_input": "2022-12-22T14:12:02.867413Z",
     "iopub.status.busy": "2022-12-22T14:12:02.866350Z",
     "iopub.status.idle": "2022-12-22T14:12:02.880810Z",
     "shell.execute_reply": "2022-12-22T14:12:02.879678Z",
     "shell.execute_reply.started": "2022-12-22T14:12:02.867359Z"
    }
   },
   "outputs": [],
   "source": [
    "import operator\n",
    "def hasil(K,name,Similarity):\n",
    "    new_movie = movies[movies['original_title'].str.contains(name)].iloc[0].to_frame().T\n",
    "    print('Selected Movie: ',new_movie.original_title.values[0])\n",
    "    def getNeighbors(baseMovie, K):\n",
    "        distances = []\n",
    "        for index, movie in movies.iterrows():\n",
    "            if movie['new_id'] != baseMovie['new_id'].values[0]:\n",
    "                dist = Similarity(baseMovie['new_id'].values[0], movie['new_id'])\n",
    "                distances.append((movie['new_id'], dist))\n",
    "        distances.sort(key=operator.itemgetter(1))\n",
    "        neighbors = []\n",
    "        for x in range(K):\n",
    "            neighbors.append(distances[x])\n",
    "        return neighbors\n",
    "    avgRating = 0\n",
    "    neighbors = getNeighbors(new_movie, K)\n",
    "    \n",
    "    print('\\nRecommended Movies: \\n')\n",
    "    for neighbor in neighbors:\n",
    "        avgRating = avgRating+movies.iloc[neighbor[0]][2]  \n",
    "        print( movies.iloc[neighbor[0]][0]+\" | Genres: \"+str(movies.iloc[neighbor[0]][1]).strip('[]').replace(' ','')+\" | Rating: \"+str(movies.iloc[neighbor[0]][2]))\n",
    "    \n",
    "    print('\\n')\n",
    "    avgRating = avgRating/K\n",
    "    error = abs(avgRating-float(new_movie['vote_average']))\n",
    "    print('The predicted rating for %s is: %f' %(new_movie['original_title'].values[0],avgRating))\n",
    "    print('The actual rating for %s is %f' %(new_movie['original_title'].values[0],new_movie['vote_average']))"
   ]
  },
  {
   "cell_type": "code",
   "execution_count": 174,
   "id": "d7a88f68",
   "metadata": {
    "execution": {
     "iopub.execute_input": "2022-12-22T14:12:20.753901Z",
     "iopub.status.busy": "2022-12-22T14:12:20.753512Z",
     "iopub.status.idle": "2022-12-22T14:12:25.828070Z",
     "shell.execute_reply": "2022-12-22T14:12:25.826943Z",
     "shell.execute_reply.started": "2022-12-22T14:12:20.753859Z"
    }
   },
   "outputs": [
    {
     "name": "stdout",
     "output_type": "stream",
     "text": [
      "Selected Movie:  The Hunger Games: Mockingjay - Part 2\n",
      "\n",
      "Recommended Movies: \n",
      "\n",
      "The Hunger Games: Catching Fire | Genres: 'Action','Adventure','ScienceFiction' | Rating: 7.4\n",
      "The Hunger Games: Mockingjay - Part 1 | Genres: 'Adventure','ScienceFiction','Thriller' | Rating: 6.6\n",
      "The Hunger Games | Genres: 'Adventure','Fantasy','ScienceFiction' | Rating: 6.9\n",
      "Captain America: The First Avenger | Genres: 'Action','Adventure','ScienceFiction' | Rating: 6.6\n",
      "Avatar | Genres: 'Action','Adventure','Fantasy','ScienceFiction' | Rating: 7.2\n",
      "The Incredible Hulk | Genres: 'Action','Adventure','ScienceFiction' | Rating: 6.1\n",
      "Divergent | Genres: 'Action','Adventure','ScienceFiction' | Rating: 6.9\n",
      "Jumper | Genres: 'Adventure','Fantasy','ScienceFiction' | Rating: 5.9\n",
      "Hulk | Genres: 'Action','Drama','ScienceFiction' | Rating: 5.3\n",
      "I, Robot | Genres: 'Action','ScienceFiction' | Rating: 6.7\n",
      "\n",
      "\n",
      "The predicted rating for The Hunger Games: Mockingjay - Part 2 is: 6.560000\n",
      "The actual rating for The Hunger Games: Mockingjay - Part 2 is 6.600000\n"
     ]
    }
   ],
   "source": [
    " hasil(10,'Hunger Games',Similarity_Manhattan)"
   ]
  },
  {
   "cell_type": "code",
   "execution_count": 175,
   "id": "283727bb",
   "metadata": {
    "execution": {
     "iopub.execute_input": "2022-12-22T14:12:32.644609Z",
     "iopub.status.busy": "2022-12-22T14:12:32.644220Z",
     "iopub.status.idle": "2022-12-22T14:12:37.627350Z",
     "shell.execute_reply": "2022-12-22T14:12:37.626144Z",
     "shell.execute_reply.started": "2022-12-22T14:12:32.644570Z"
    }
   },
   "outputs": [
    {
     "name": "stdout",
     "output_type": "stream",
     "text": [
      "Selected Movie:  The Hunger Games: Mockingjay - Part 2\n",
      "\n",
      "Recommended Movies: \n",
      "\n",
      "The Hunger Games: Catching Fire | Genres: 'Action','Adventure','ScienceFiction' | Rating: 7.4\n",
      "The Hunger Games: Mockingjay - Part 1 | Genres: 'Adventure','ScienceFiction','Thriller' | Rating: 6.6\n",
      "Captain America: The First Avenger | Genres: 'Action','Adventure','ScienceFiction' | Rating: 6.6\n",
      "The Incredible Hulk | Genres: 'Action','Adventure','ScienceFiction' | Rating: 6.1\n",
      "Divergent | Genres: 'Action','Adventure','ScienceFiction' | Rating: 6.9\n",
      "The Avengers | Genres: 'Action','Adventure','ScienceFiction' | Rating: 7.4\n",
      "Captain America: The Winter Soldier | Genres: 'Action','Adventure','ScienceFiction' | Rating: 7.6\n",
      "Iron Man | Genres: 'Action','Adventure','ScienceFiction' | Rating: 7.4\n",
      "Independence Day | Genres: 'Action','Adventure','ScienceFiction' | Rating: 6.7\n",
      "TRON: Legacy | Genres: 'Action','Adventure','ScienceFiction' | Rating: 6.3\n",
      "\n",
      "\n",
      "The predicted rating for The Hunger Games: Mockingjay - Part 2 is: 6.900000\n",
      "The actual rating for The Hunger Games: Mockingjay - Part 2 is 6.600000\n"
     ]
    }
   ],
   "source": [
    " hasil(10,'Hunger Games',Similarity_Cosine)"
   ]
  },
  {
   "cell_type": "code",
   "execution_count": 176,
   "id": "c94ea9e9",
   "metadata": {
    "execution": {
     "iopub.execute_input": "2022-12-22T14:12:42.155384Z",
     "iopub.status.busy": "2022-12-22T14:12:42.155026Z",
     "iopub.status.idle": "2022-12-22T14:12:46.399927Z",
     "shell.execute_reply": "2022-12-22T14:12:46.398788Z",
     "shell.execute_reply.started": "2022-12-22T14:12:42.155353Z"
    }
   },
   "outputs": [
    {
     "name": "stdout",
     "output_type": "stream",
     "text": [
      "Selected Movie:  The Hunger Games: Mockingjay - Part 2\n",
      "\n",
      "Recommended Movies: \n",
      "\n",
      "The Hunger Games: Catching Fire | Genres: 'Action','Adventure','ScienceFiction' | Rating: 7.4\n",
      "The Hunger Games: Mockingjay - Part 1 | Genres: 'Adventure','ScienceFiction','Thriller' | Rating: 6.6\n",
      "The Hunger Games | Genres: 'Adventure','Fantasy','ScienceFiction' | Rating: 6.9\n",
      "Captain America: The First Avenger | Genres: 'Action','Adventure','ScienceFiction' | Rating: 6.6\n",
      "Divergent | Genres: 'Action','Adventure','ScienceFiction' | Rating: 6.9\n",
      "The Incredible Hulk | Genres: 'Action','Adventure','ScienceFiction' | Rating: 6.1\n",
      "Avatar | Genres: 'Action','Adventure','Fantasy','ScienceFiction' | Rating: 7.2\n",
      "The Avengers | Genres: 'Action','Adventure','ScienceFiction' | Rating: 7.4\n",
      "Iron Man | Genres: 'Action','Adventure','ScienceFiction' | Rating: 7.4\n",
      "\n",
      "\n",
      "The predicted rating for The Hunger Games: Mockingjay - Part 2 is: 6.944444\n",
      "The actual rating for The Hunger Games: Mockingjay - Part 2 is 6.600000\n"
     ]
    }
   ],
   "source": [
    " hasil(9,'Hunger Games',Similarity_Euclidean)"
   ]
  },
  {
   "cell_type": "code",
   "execution_count": 177,
   "id": "bfa84f42",
   "metadata": {
    "execution": {
     "iopub.execute_input": "2022-12-22T14:14:59.548449Z",
     "iopub.status.busy": "2022-12-22T14:14:59.547683Z",
     "iopub.status.idle": "2022-12-22T14:15:03.744125Z",
     "shell.execute_reply": "2022-12-22T14:15:03.742950Z",
     "shell.execute_reply.started": "2022-12-22T14:14:59.548412Z"
    }
   },
   "outputs": [
    {
     "name": "stdout",
     "output_type": "stream",
     "text": [
      "Selected Movie:  The Hunger Games: Mockingjay - Part 2\n",
      "\n",
      "Recommended Movies: \n",
      "\n",
      "The Hunger Games: Catching Fire | Genres: 'Action','Adventure','ScienceFiction' | Rating: 7.4\n",
      "Captain America: The First Avenger | Genres: 'Action','Adventure','ScienceFiction' | Rating: 6.6\n",
      "Divergent | Genres: 'Action','Adventure','ScienceFiction' | Rating: 6.9\n",
      "The Incredible Hulk | Genres: 'Action','Adventure','ScienceFiction' | Rating: 6.1\n",
      "The Avengers | Genres: 'Action','Adventure','ScienceFiction' | Rating: 7.4\n",
      "Iron Man | Genres: 'Action','Adventure','ScienceFiction' | Rating: 7.4\n",
      "Captain America: The Winter Soldier | Genres: 'Action','Adventure','ScienceFiction' | Rating: 7.6\n",
      "Fantastic Four | Genres: 'Action','Adventure','ScienceFiction' | Rating: 4.4\n",
      "The Hunger Games | Genres: 'Adventure','Fantasy','ScienceFiction' | Rating: 6.9\n",
      "Avatar | Genres: 'Action','Adventure','Fantasy','ScienceFiction' | Rating: 7.2\n",
      "\n",
      "\n",
      "The predicted rating for The Hunger Games: Mockingjay - Part 2 is: 6.790000\n",
      "The actual rating for The Hunger Games: Mockingjay - Part 2 is 6.600000\n"
     ]
    }
   ],
   "source": [
    " hasil(10,'Hunger Games',Similarity_Hamming)"
   ]
  },
  {
   "cell_type": "code",
   "execution_count": null,
   "id": "a92adb0a",
   "metadata": {},
   "outputs": [],
   "source": []
  }
 ],
 "metadata": {
  "kernelspec": {
   "display_name": "Python 3 (ipykernel)",
   "language": "python",
   "name": "python3"
  },
  "language_info": {
   "codemirror_mode": {
    "name": "ipython",
    "version": 3
   },
   "file_extension": ".py",
   "mimetype": "text/x-python",
   "name": "python",
   "nbconvert_exporter": "python",
   "pygments_lexer": "ipython3",
   "version": "3.9.7"
  }
 },
 "nbformat": 4,
 "nbformat_minor": 5
}
